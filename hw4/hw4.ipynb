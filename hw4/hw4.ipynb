{
 "metadata": {
  "name": "",
  "signature": "sha256:06fbed87e7f32a204159f5e61b40bcdf8476b80ea2c3b269a99f0caf87613b23"
 },
 "nbformat": 3,
 "nbformat_minor": 0,
 "worksheets": [
  {
   "cells": [
    {
     "cell_type": "markdown",
     "metadata": {},
     "source": [
      "Homework 4\n",
      "==========\n",
      "\n",
      "- Name: Austin Chen\n",
      "- SID: 23826762\n",
      "- Repro: Open up hw4.ipynb in IPython Notebook."
     ]
    },
    {
     "cell_type": "markdown",
     "metadata": {},
     "source": [
      "### (1)\n",
      "$$l(\\beta) = \\lambda||\\beta||_2^2 - \\sum\\limits_{i=1}^n [y_i log \\mu_i + (1-y_i) log(1-\\mu_i)]$$\n",
      "$$\\nabla_\\beta l(\\beta) = \\frac{d}{d\\beta}[\\lambda \\beta^T \\beta - \\sum\\limits_{i=1}^n [y_i log \\mu_i + (1-y_i) log(1-\\mu_i)]]$$\n",
      "$$\\nabla_\\beta l(\\beta) = 2\\lambda \\beta - \\sum\\limits_{i=1}^n \\frac{d}{d\\beta}[y_i log \\mu_i + (1-y_i) log(1-\\mu_i)]$$\n",
      "$$\\nabla_\\beta l(\\beta) = 2\\lambda \\beta - \\sum\\limits_{i=1}^n x_i [y_i - \\mu_i]$$\n",
      "\n",
      "Lemma:\n",
      "\n",
      "$$\\frac{d}{d\\beta} [y_i log \\mu_i + (1-y_i) log(1-\\mu_i)]$$\n",
      "$$=y_i \\frac{d}{d\\beta} log \\mu_i + (1-y_i) \\frac{d}{d\\beta} log(1-\\mu_i)$$\n",
      "$$=y_i (1 / \\mu_i) \\frac{d}{d\\beta} \\mu_i + (1-y_i) / (1-\\mu_i) \\frac{d}{d\\beta} (1-\\mu_i)$$\n",
      "Let $k = e^{-\\beta^T x_i}$.\n",
      "\n",
      "Then, $\\mu_i = 1 / (1+k)$, and $1-\\mu_i = k / (1+k)$.\n",
      "\n",
      "Also, $\\frac{d}{d\\beta} k = - x_i k$.\n",
      "$$=y_i (1 + k) \\frac{d}{d\\beta} 1 / (1+k) + (1-y_i) (1+k)/k *\\frac{d}{d\\beta} k / (1+k)$$\n",
      "$$=y_i (1 + k) (x_i k) / (1+k)^2 + (1-y_i) (1+k)/k * [(1+k)(-x_i k) - (k)(-x_i k) / (1+k)^2]$$\n",
      "$$=y_i (x_i k) / (1+k) + (1-y_i) 1/k * (-x_i k) / (1+k)]$$\n",
      "$$=y_i (x_i k) \\mu_i + (1-y_i) * (-x_i) \\mu_i]$$\n",
      "$$=\\mu_i x_i [y_i k - (1-y_i)]$$\n",
      "$$=\\mu_i x_i [y_i (k + 1) - 1]$$\n",
      "$$=x_i [y_i - \\mu_i]$$"
     ]
    },
    {
     "cell_type": "markdown",
     "metadata": {},
     "source": [
      "### (2)\n",
      "\n",
      "$$2\\lambda I + \\sum\\limits_{i=1}^n(u_i)(1-u_i)x_i x_i^T$$"
     ]
    },
    {
     "cell_type": "markdown",
     "metadata": {},
     "source": [
      "### (3)\n",
      "\n",
      "$$B^{(t+1)} = B^{(t)} - H^{-1}_\\beta * \\nabla_\\beta l(\\beta)$$"
     ]
    },
    {
     "cell_type": "markdown",
     "metadata": {},
     "source": [
      "### (4)\n",
      "\n"
     ]
    },
    {
     "cell_type": "code",
     "collapsed": false,
     "input": [
      "import numpy as np\n",
      "import scipy.io\n",
      "%matplotlib inline\n",
      "import matplotlib.pyplot as plt"
     ],
     "language": "python",
     "metadata": {},
     "outputs": [],
     "prompt_number": 2
    },
    {
     "cell_type": "code",
     "collapsed": false,
     "input": [
      "def mu(B, X):\n",
      "    mu = np.empty((len(X), 1))\n",
      "    for i in range(len(X)):\n",
      "        mu[i] = mui(B, X, i)\n",
      "    return mu\n",
      "\n",
      "def mui(B, X, i):\n",
      "    mu = 1 / (1 + np.exp(-B.T.dot(X[i])))\n",
      "    mu = max(mu, .000000000001)\n",
      "    mu = min(mu, .999999999999)\n",
      "    return mu\n",
      "\n",
      "def diag(mu):\n",
      "    # Return the diagonal matrix, ith entry = u_i(1-u_i)\n",
      "    return np.diagflat(mu * (1 - mu))\n",
      "\n",
      "def gradient(B, X, y, l):\n",
      "    u = mu(B, X)\n",
      "    return 2 * l * B - X.T.dot(y - u)\n",
      "\n",
      "def hessian(B, X, y, l):\n",
      "    u = mu(B, X)\n",
      "    return 2 * l * np.eye(len(X.T)) + X.T.dot(diag(u)).dot(X)\n",
      "\n",
      "def loss(B, X, y, l):\n",
      "    u = mu(B, X)\n",
      "    return (l * B.T.dot(B) - y.T.dot(np.log(u)) - (1 - y).T.dot(np.log(1 - u)))[0][0]"
     ],
     "language": "python",
     "metadata": {},
     "outputs": [],
     "prompt_number": 82
    },
    {
     "cell_type": "code",
     "collapsed": false,
     "input": [
      "X = np.array([\n",
      "[0, 3, 1],\n",
      "[1, 3, 1],\n",
      "[0, 1, 1],\n",
      "[1, 1, 1]])\n",
      "\n",
      "B = np.array([[-2, 1, 0]]).T\n",
      "y = np.array([[1, 1, 0, 0]]).T\n",
      "l = 0.07\n",
      "\n",
      "def step(B, X, y, l):\n",
      "    return B - np.linalg.inv(hessian(B, X, y, l)).dot(gradient(B, X, y, l))\n",
      "\n",
      "print(\"u0:\", mu(B, X))\n",
      "B = step(B, X, y, l)\n",
      "print(\"B1:\", B)\n",
      "\n",
      "print(\"u1:\", mu(B, X))\n",
      "B = step(B, X, y, l)\n",
      "print(\"B2:\", B)"
     ],
     "language": "python",
     "metadata": {},
     "outputs": [
      {
       "output_type": "stream",
       "stream": "stdout",
       "text": [
        "u0: [[ 0.95257413]\n",
        " [ 0.73105858]\n",
        " [ 0.73105858]\n",
        " [ 0.26894142]]\n",
        "B1: [[-0.38676399]\n",
        " [ 1.40431761]\n",
        " [-2.28417115]]\n",
        "u1: [[ 0.87311451]\n",
        " [ 0.82375785]\n",
        " [ 0.29320813]\n",
        " [ 0.21983683]]\n",
        "B2: [[-0.51222668]\n",
        " [ 1.45272677]\n",
        " [-2.16271799]]\n"
       ]
      }
     ],
     "prompt_number": 102
    },
    {
     "cell_type": "markdown",
     "metadata": {},
     "source": [
      "## Problem 2\n",
      "\n",
      "### (1)"
     ]
    },
    {
     "cell_type": "code",
     "collapsed": false,
     "input": [
      "# Load the data\n",
      "data = np.loadtxt(open('data/YearPredictionMSD.txt','rb'), delimiter=',')"
     ],
     "language": "python",
     "metadata": {},
     "outputs": [],
     "prompt_number": 18
    },
    {
     "cell_type": "code",
     "collapsed": false,
     "input": [
      "# Separate the training data\n",
      "X = data[:463715, 1:]\n",
      "y = data[:463715, :1].astype(int)\n",
      "\n",
      "# Introduce extra row for constant term\n",
      "X = np.hstack((X, np.ones((len(X), 1))))"
     ],
     "language": "python",
     "metadata": {},
     "outputs": [],
     "prompt_number": 19
    },
    {
     "cell_type": "code",
     "collapsed": false,
     "input": [
      "# Solve for B\n",
      "B = np.linalg.solve(np.dot(X.T, X), np.dot(X.T, y))"
     ],
     "language": "python",
     "metadata": {},
     "outputs": [],
     "prompt_number": 20
    },
    {
     "cell_type": "markdown",
     "metadata": {},
     "source": [
      "### (2)\n",
      "\n",
      "On the test set, I get an RSS of around 4,670,000, and predictions from 1980 to 2015 with a few outliers (shown below). This mostly makes sense, as the data provided spans 1922 to 2011 with a peak in the 2000s."
     ]
    },
    {
     "cell_type": "code",
     "collapsed": false,
     "input": [
      "# Separate the test data\n",
      "Xt = data[463715:, 1:]\n",
      "yt = data[463715:, :1].astype(int)\n",
      "\n",
      "# Account for constant term\n",
      "Xt = np.hstack((Xt, np.ones((len(Xt), 1))))\n",
      "\n",
      "# Calculate residual sum of squares\n",
      "RSS = np.linalg.norm(np.dot(Xt, B) - yt) ** 2\n",
      "print(\"RSS is\", RSS)\n",
      "\n",
      "# Some interesting visualizations\n",
      "predictions = np.dot(Xt, B)\n",
      "plt.hist(predictions, bins=np.arange(1970, 2025, 1))\n",
      "plt.title(\"Predictions\")\n",
      "plt.xlabel(\"Year\")\n",
      "plt.show()\n",
      "\n",
      "plt.hist(predictions - yt, bins= np.arange(-40, 40, 1))\n",
      "plt.title(\"Error\")\n",
      "plt.xlabel(\"Deviation from prediction (years)\")\n",
      "plt.show()"
     ],
     "language": "python",
     "metadata": {},
     "outputs": [
      {
       "output_type": "stream",
       "stream": "stdout",
       "text": [
        "RSS is 4669580.17951\n"
       ]
      },
      {
       "metadata": {},
       "output_type": "display_data",
       "png": "[encoded data removed]",
       "text": [
        "<matplotlib.figure.Figure at 0x7bb8438>"
       ]
      },
      {
       "metadata": {},
       "output_type": "display_data",
       "png": "[encoded data removed]",
       "text": [
        "<matplotlib.figure.Figure at 0x688cc400>"
       ]
      }
     ],
     "prompt_number": 21
    },
    {
     "cell_type": "markdown",
     "metadata": {},
     "source": [
      "### (3)"
     ]
    },
    {
     "cell_type": "code",
     "collapsed": false,
     "input": [
      "# Plot B, excluding B0\n",
      "plt.plot(B[:-1])\n",
      "\n",
      "print(\"B0 is\", B[-1])"
     ],
     "language": "python",
     "metadata": {},
     "outputs": [
      {
       "output_type": "stream",
       "stream": "stdout",
       "text": [
        "B0 is [ 1951.1221816]\n"
       ]
      },
      {
       "metadata": {},
       "output_type": "display_data",
       "png": "[encoded data removed]",
       "text": [
        "<matplotlib.figure.Figure at 0x95b7198>"
       ]
      }
     ],
     "prompt_number": 120
    },
    {
     "cell_type": "markdown",
     "metadata": {},
     "source": [
      "### (4)\n",
      "Linear regression isn't very effective ???"
     ]
    },
    {
     "cell_type": "markdown",
     "metadata": {},
     "source": [
      "## Problem 3"
     ]
    },
    {
     "cell_type": "code",
     "collapsed": false,
     "input": [
      "# Load the data\n",
      "mat = scipy.io.loadmat('data/spam.mat')\n",
      "xtrain, ytrain, xtest = mat['Xtrain'], mat['ytrain'], mat['Xtest']"
     ],
     "language": "python",
     "metadata": {},
     "outputs": [],
     "prompt_number": 114
    },
    {
     "cell_type": "code",
     "collapsed": false,
     "input": [
      "from sklearn import preprocessing\n",
      "\n",
      "# i) Standardize the columns to 0 mean, unit variance\n",
      "# X1 = preprocessing.scale(xtrain)\n",
      "X1 = (xtrain - np.mean(xtrain, axis=0)) / np.std(xtrain, axis=0)\n",
      "\n",
      "# ii) Transform the features with log\n",
      "X2 = np.log(xtrain + 0.1);\n",
      "\n",
      "# iii) Binarize the features\n",
      "# X3 = preprocessing.binarize(xtrain)\n",
      "X3 = np.array([[1 if x > 0 else 0 for x in col] for col in xtrain]).astype(float)"
     ],
     "language": "python",
     "metadata": {},
     "outputs": [],
     "prompt_number": 115
    },
    {
     "cell_type": "code",
     "collapsed": false,
     "input": [
      "# (xtrain - np.mean(xtrain, axis=0))[:,0]\n",
      "np.std(xtrain, axis=0)[0]"
     ],
     "language": "python",
     "metadata": {},
     "outputs": [
      {
       "metadata": {},
       "output_type": "pyout",
       "prompt_number": 96,
       "text": [
        "0.31005924749057451"
       ]
      }
     ],
     "prompt_number": 96
    },
    {
     "cell_type": "markdown",
     "metadata": {},
     "source": [
      "### (1)"
     ]
    },
    {
     "cell_type": "code",
     "collapsed": false,
     "input": [
      "def iterated_batch(X, y, l, step, iterations):\n",
      "    B = np.zeros((len(X.T), 1)) # B0\n",
      "    losses = []\n",
      "    for _ in range(iterations):\n",
      "        losses.append(loss(B, X, ytrain, l))\n",
      "#         print(losses[-1])\n",
      "        B = B - step * gradient(B, X, y, l)\n",
      "    plt.plot(losses)\n",
      "    plt.show()\n",
      "\n",
      "iterated_batch(X1, ytrain, 1, 0.003, 50)\n",
      "iterated_batch(X2, ytrain, 1, 0.00002, 50)\n",
      "iterated_batch(X3, ytrain, 1, 0.001, 50)"
     ],
     "language": "python",
     "metadata": {},
     "outputs": [
      {
       "metadata": {},
       "output_type": "display_data",
       "png": "[encoded data removed]",
       "text": [
        "<matplotlib.figure.Figure at 0x8f767f0>"
       ]
      },
      {
       "metadata": {},
       "output_type": "display_data",
       "png": "[encoded data removed]",
       "text": [
        "<matplotlib.figure.Figure at 0x8f1cd68>"
       ]
      }
     ]
    },
    {
     "cell_type": "markdown",
     "metadata": {},
     "source": [
      "### (2)"
     ]
    },
    {
     "cell_type": "code",
     "collapsed": false,
     "input": [
      "def iterated_stochastic(X, y, l, step, iterations):\n",
      "    B = np.zeros((len(X.T), 1)) # B0\n",
      "    losses = []\n",
      "    for _ in range(iterations):\n",
      "        losses.append(loss(B, X, ytrain, l))\n",
      "#         print(losses[-1])\n",
      "        i = np.random.randint(len(B))\n",
      "        gi = step * (2 * l * B[i] - (y[i] - mui(B, X, i))) * X[i]\n",
      "        gi = np.reshape(gi, (len(B), -1))\n",
      "        B = B - gi\n",
      "    plt.plot(losses)\n",
      "    plt.show()"
     ],
     "language": "python",
     "metadata": {},
     "outputs": [],
     "prompt_number": 103
    },
    {
     "cell_type": "code",
     "collapsed": false,
     "input": [
      "iterated_stochastic(X1, ytrain, 1, 0.005, 1000)"
     ],
     "language": "python",
     "metadata": {},
     "outputs": [
      {
       "metadata": {},
       "output_type": "display_data",
       "png": "[encoded data removed]",
       "text": [
        "<matplotlib.figure.Figure at 0x5715630>"
       ]
      }
     ],
     "prompt_number": 105
    },
    {
     "cell_type": "code",
     "collapsed": false,
     "input": [
      "# iterated_stochastic(X1, ytrain, 1, 0.05, 100)\n",
      "iterated_stochastic(X2, ytrain, 1, 0.0005, 1000)"
     ],
     "language": "python",
     "metadata": {},
     "outputs": [
      {
       "metadata": {},
       "output_type": "display_data",
       "png": "[encoded data removed]",
       "text": [
        "<matplotlib.figure.Figure at 0x57cd128>"
       ]
      }
     ],
     "prompt_number": 67
    },
    {
     "cell_type": "code",
     "collapsed": false,
     "input": [
      "iterated_stochastic(X3, ytrain, 1, 0.05, 100)"
     ],
     "language": "python",
     "metadata": {},
     "outputs": []
    },
    {
     "cell_type": "markdown",
     "metadata": {},
     "source": [
      "### (3)"
     ]
    },
    {
     "cell_type": "code",
     "collapsed": false,
     "input": [],
     "language": "python",
     "metadata": {},
     "outputs": []
    }
   ],
   "metadata": {}
  }
 ]
}