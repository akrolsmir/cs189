{
 "metadata": {
  "name": "",
  "signature": "sha256:dd4ed3f22c9731e23503183342ac894dd677ad943751dd72973873495db2f2ff"
 },
 "nbformat": 3,
 "nbformat_minor": 0,
 "worksheets": [
  {
   "cells": [
    {
     "cell_type": "markdown",
     "metadata": {},
     "source": [
      "Homework 4\n",
      "==========\n",
      "\n",
      "- Name: Austin Chen\n",
      "- SID: 23826762\n",
      "- Repro: Open up hw4.ipynb in IPython Notebook."
     ]
    },
    {
     "cell_type": "markdown",
     "metadata": {},
     "source": [
      "### (1)\n",
      "$$l(\\beta) = \\lambda||\\beta||_2^2 - \\sum\\limits_{i=1}^n [y_i log \\mu_i + (1-y_i) log(1-\\mu_i)]$$\n",
      "$$\\nabla_\\beta l(\\beta) = \\frac{d}{d\\beta}[\\lambda \\beta^T \\beta - \\sum\\limits_{i=1}^n [y_i log \\mu_i + (1-y_i) log(1-\\mu_i)]]$$\n",
      "$$\\nabla_\\beta l(\\beta) = 2\\lambda \\beta - \\sum\\limits_{i=1}^n \\frac{d}{d\\beta}[y_i log \\mu_i + (1-y_i) log(1-\\mu_i)]$$\n",
      "$$\\nabla_\\beta l(\\beta) = 2\\lambda \\beta - \\sum\\limits_{i=1}^n x_i [y_i - \\mu_i]$$\n",
      "\n",
      "Lemma:\n",
      "\n",
      "$$\\frac{d}{d\\beta} [y_i log \\mu_i + (1-y_i) log(1-\\mu_i)]$$\n",
      "$$=y_i \\frac{d}{d\\beta} log \\mu_i + (1-y_i) \\frac{d}{d\\beta} log(1-\\mu_i)$$\n",
      "$$=y_i (1 / \\mu_i) \\frac{d}{d\\beta} \\mu_i + (1-y_i) / (1-\\mu_i) \\frac{d}{d\\beta} (1-\\mu_i)$$\n",
      "Let $k = e^{-\\beta^T x_i}$.\n",
      "\n",
      "Then, $\\mu_i = 1 / (1+k)$, and $1-\\mu_i = k / (1+k)$.\n",
      "\n",
      "Also, $\\frac{d}{d\\beta} k = - x_i k$.\n",
      "$$=y_i (1 + k) \\frac{d}{d\\beta} 1 / (1+k) + (1-y_i) (1+k)/k *\\frac{d}{d\\beta} k / (1+k)$$\n",
      "$$=y_i (1 + k) (x_i k) / (1+k)^2 + (1-y_i) (1+k)/k * [(1+k)(-x_i k) - (k)(-x_i k) / (1+k)^2]$$\n",
      "$$=y_i (x_i k) / (1+k) + (1-y_i) 1/k * (-x_i k) / (1+k)]$$\n",
      "$$=y_i (x_i k) \\mu_i + (1-y_i) * (-x_i) \\mu_i]$$\n",
      "$$=\\mu_i x_i [y_i k - (1-y_i)]$$\n",
      "$$=\\mu_i x_i [y_i (k + 1) - 1]$$\n",
      "$$=x_i [y_i - \\mu_i]$$"
     ]
    },
    {
     "cell_type": "markdown",
     "metadata": {},
     "source": [
      "### (2)\n",
      "\n",
      "$$2\\lambda I - \\sum\\limits_{i=1}^n(u_i)(1-u_i)x_i x_i^T$$"
     ]
    },
    {
     "cell_type": "markdown",
     "metadata": {},
     "source": [
      "### (3)\n",
      "\n",
      "$$B^{(t+1)} = B^{(t)} - H^{-1}_\\beta * \\nabla_\\beta l(\\beta)$$"
     ]
    },
    {
     "cell_type": "code",
     "collapsed": false,
     "input": [
      "import numpy as np\n",
      "import scipy.io\n",
      "%matplotlib inline\n",
      "import matplotlib.pyplot as plt"
     ],
     "language": "python",
     "metadata": {},
     "outputs": [],
     "prompt_number": 105
    },
    {
     "cell_type": "markdown",
     "metadata": {},
     "source": [
      "## Problem 2\n",
      "\n",
      "### (1)"
     ]
    },
    {
     "cell_type": "code",
     "collapsed": false,
     "input": [
      "# Load the data\n",
      "data = np.loadtxt(open('data/YearPredictionMSD.txt','rb'), delimiter=',')"
     ],
     "language": "python",
     "metadata": {},
     "outputs": [],
     "prompt_number": 3
    },
    {
     "cell_type": "code",
     "collapsed": false,
     "input": [
      "# Separate the training data\n",
      "X = data[:463715, 1:]\n",
      "y = data[:463715, :1].astype(int)\n",
      "\n",
      "# Introduce extra row for constant term\n",
      "X = np.hstack((X, np.ones((len(X), 1))))"
     ],
     "language": "python",
     "metadata": {},
     "outputs": [],
     "prompt_number": 152
    },
    {
     "cell_type": "code",
     "collapsed": false,
     "input": [
      "# Solve for B\n",
      "B = np.linalg.solve(np.dot(X.T, X), np.dot(X.T, y))"
     ],
     "language": "python",
     "metadata": {},
     "outputs": [],
     "prompt_number": 153
    },
    {
     "cell_type": "markdown",
     "metadata": {},
     "source": [
      "### (2)\n",
      "\n",
      "On the test set, I get an RSS of around 4,670,000, and predictions from 1980 to 2015 with a few outliers (shown below). This mostly makes sense, as the data provided spans 1922 to 2011 with a peak in the 2000s."
     ]
    },
    {
     "cell_type": "code",
     "collapsed": false,
     "input": [
      "# Separate the test data\n",
      "Xt = data[463715:, 1:]\n",
      "yt = data[463715:, :1].astype(int)\n",
      "\n",
      "# Account for constant term\n",
      "Xt = np.hstack((Xt, np.ones((len(Xt), 1))))\n",
      "\n",
      "# Calculate residual sum of squares\n",
      "RSS = np.linalg.norm(np.dot(Xt, B) - yt) ** 2\n",
      "print(\"RSS is\", RSS)\n",
      "\n",
      "# Some interesting visualizations\n",
      "predictions = np.dot(Xt, B)\n",
      "plt.hist(predictions, bins=np.arange(1970, 2025, 1))\n",
      "plt.title(\"Predictions\")\n",
      "plt.xlabel(\"Year\")\n",
      "plt.show()\n",
      "\n",
      "plt.hist(predictions - yt, bins= np.arange(-40, 40, 1))\n",
      "plt.title(\"Error\")\n",
      "plt.xlabel(\"Deviation from prediction (years)\")\n",
      "plt.show()"
     ],
     "language": "python",
     "metadata": {},
     "outputs": [
      {
       "output_type": "stream",
       "stream": "stdout",
       "text": [
        "RSS is 4669580.17951\n"
       ]
      },
      {
       "metadata": {},
       "output_type": "display_data",
       "png": "[encoded data removed]",
       "text": [
        "<matplotlib.figure.Figure at 0x9513a58>"
       ]
      },
      {
       "metadata": {},
       "output_type": "display_data",
       "png": "[encoded data removed]",
       "text": [
        "<matplotlib.figure.Figure at 0x9450e10>"
       ]
      }
     ],
     "prompt_number": 154
    },
    {
     "cell_type": "markdown",
     "metadata": {},
     "source": [
      "### (3)"
     ]
    },
    {
     "cell_type": "code",
     "collapsed": false,
     "input": [
      "# Plot B, excluding B0\n",
      "plt.plot(B[:-1])\n",
      "\n",
      "print(\"B0 is\", B[-1])"
     ],
     "language": "python",
     "metadata": {},
     "outputs": [
      {
       "output_type": "stream",
       "stream": "stdout",
       "text": [
        "B0 is [ 1951.1221816]\n"
       ]
      },
      {
       "metadata": {},
       "output_type": "display_data",
       "png": "[encoded data removed]",
       "text": [
        "<matplotlib.figure.Figure at 0x95b7198>"
       ]
      }
     ],
     "prompt_number": 120
    },
    {
     "cell_type": "markdown",
     "metadata": {},
     "source": [
      "### (4)\n",
      "Linear regression isn't very effective ???"
     ]
    },
    {
     "cell_type": "markdown",
     "metadata": {},
     "source": [
      "## Problem 3"
     ]
    },
    {
     "cell_type": "code",
     "collapsed": false,
     "input": [
      "# Load the data\n",
      "mat = scipy.io.loadmat('data/spam.mat')\n",
      "xtrain, ytrain, xtest = mat['Xtrain'], mat['ytrain'], mat['Xtest']\n",
      "np.shape(xtrain)\n",
      "# images = np.reshape(mat['train_image'], (1, -1, 60000))[0].T\n",
      "# labels = mat['train_label']\n",
      "\n",
      "# Bt = Bt + X.T.dot(diag).dot(X)  inverse .dot(X.T).dot(ytrain - mu)\n",
      "xtrain"
     ],
     "language": "python",
     "metadata": {},
     "outputs": [
      {
       "metadata": {},
       "output_type": "pyout",
       "prompt_number": 156,
       "text": [
        "array([[  0.00000000e+00,   1.32000000e+00,   5.60000000e-01, ...,\n",
        "          2.54200000e+00,   3.40000000e+01,   2.39000000e+02],\n",
        "       [  0.00000000e+00,   0.00000000e+00,   0.00000000e+00, ...,\n",
        "          1.85000000e+00,   1.50000000e+01,   3.70000000e+01],\n",
        "       [  0.00000000e+00,   0.00000000e+00,   1.31000000e+00, ...,\n",
        "          4.81800000e+00,   2.50000000e+01,   5.30000000e+01],\n",
        "       ..., \n",
        "       [  1.70000000e-01,   0.00000000e+00,   5.10000000e-01, ...,\n",
        "          1.89400000e+00,   2.20000000e+01,   2.16000000e+02],\n",
        "       [  0.00000000e+00,   7.10000000e-01,   3.50000000e-01, ...,\n",
        "          3.76800000e+00,   6.10000000e+01,   2.60000000e+02],\n",
        "       [  0.00000000e+00,   3.50000000e-01,   1.70000000e-01, ...,\n",
        "          1.64180000e+01,   1.58000000e+02,   9.03000000e+02]])"
       ]
      }
     ],
     "prompt_number": 156
    },
    {
     "cell_type": "code",
     "collapsed": false,
     "input": [
      "# Standardize the columns to 0 mean, unit variance\n",
      "from sklearn.preprocessing import normalize\n",
      "data = normalize(xtrain, norm='l2')"
     ],
     "language": "python",
     "metadata": {},
     "outputs": [],
     "prompt_number": 157
    }
   ],
   "metadata": {}
  }
 ]
}