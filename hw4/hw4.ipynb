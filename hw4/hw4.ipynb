{
 "metadata": {
  "name": "",
  "signature": "sha256:5b8ee77118210e1f09d1579b1b45eb234b9d8682f783fe99706b14c43f908b23"
 },
 "nbformat": 3,
 "nbformat_minor": 0,
 "worksheets": [
  {
   "cells": [
    {
     "cell_type": "markdown",
     "metadata": {},
     "source": [
      "Homework 4\n",
      "==========\n",
      "\n",
      "- Name: Austin Chen\n",
      "- SID: 23826762\n",
      "- Repro: Open up hw4.ipynb in IPython Notebook."
     ]
    },
    {
     "cell_type": "code",
     "collapsed": false,
     "input": [
      "import numpy as np\n",
      "import scipy.io\n",
      "%matplotlib inline\n",
      "import matplotlib.pyplot as plt"
     ],
     "language": "python",
     "metadata": {},
     "outputs": [],
     "prompt_number": 105
    },
    {
     "cell_type": "markdown",
     "metadata": {},
     "source": [
      "## Problem 2\n",
      "\n",
      "### (1)"
     ]
    },
    {
     "cell_type": "code",
     "collapsed": false,
     "input": [
      "# Load the data\n",
      "data = np.loadtxt(open('data/YearPredictionMSD.txt','rb'), delimiter=',')"
     ],
     "language": "python",
     "metadata": {},
     "outputs": [],
     "prompt_number": 3
    },
    {
     "cell_type": "code",
     "collapsed": false,
     "input": [
      "# Separate the training data\n",
      "X = data[:463715, 1:]\n",
      "y = data[:463715, :1].astype(int)\n",
      "\n",
      "# Introduce extra row for constant term\n",
      "# X = np.hstack((X, np.ones((len(X), 1))))"
     ],
     "language": "python",
     "metadata": {},
     "outputs": [],
     "prompt_number": 148
    },
    {
     "cell_type": "code",
     "collapsed": false,
     "input": [
      "# Solve for B\n",
      "B = np.linalg.solve(np.dot(X.T, X), np.dot(X.T, y))"
     ],
     "language": "python",
     "metadata": {},
     "outputs": [],
     "prompt_number": 149
    },
    {
     "cell_type": "markdown",
     "metadata": {},
     "source": [
      "### (2)\n",
      "\n",
      "On the test set, I get an RSS of around 4,670,000, and predictions from 1980 to 2015 with a few outliers (shown below). This mostly makes sense, as the data provided spans 1922 to 2011 with a peak in the 2000s."
     ]
    },
    {
     "cell_type": "code",
     "collapsed": false,
     "input": [
      "# Separate the test data\n",
      "Xt = data[463715:, 1:]\n",
      "yt = data[463715:, :1].astype(int)\n",
      "\n",
      "# Account for constant term\n",
      "# Xt = np.hstack((Xt, np.ones((len(Xt), 1))))\n",
      "\n",
      "# Calculate residual sum of squares\n",
      "RSS = np.linalg.norm(np.dot(Xt, B) - yt) ** 2\n",
      "print(\"RSS is\", RSS)\n",
      "\n",
      "# Some interesting visualizations\n",
      "predictions = np.dot(Xt, B)\n",
      "plt.hist(predictions, bins=np.arange(1970, 2025, 1))\n",
      "plt.title(\"Predictions\")\n",
      "plt.xlabel(\"Year\")\n",
      "plt.show()\n",
      "\n",
      "plt.hist(predictions - yt, bins= np.arange(-40, 40, 1))\n",
      "plt.title(\"Error\")\n",
      "plt.xlabel(\"Deviation from prediction (years)\")\n",
      "plt.show()"
     ],
     "language": "python",
     "metadata": {},
     "outputs": [
      {
       "output_type": "stream",
       "stream": "stdout",
       "text": [
        "RSS is 925100759.362\n"
       ]
      },
      {
       "metadata": {},
       "output_type": "display_data",
       "png": "[encoded data removed]",
       "text": [
        "<matplotlib.figure.Figure at 0xa4c1b70>"
       ]
      },
      {
       "metadata": {},
       "output_type": "display_data",
       "png": "[encoded data removed]",
       "text": [
        "<matplotlib.figure.Figure at 0x94c0278>"
       ]
      }
     ],
     "prompt_number": 150
    },
    {
     "cell_type": "markdown",
     "metadata": {},
     "source": [
      "### (3)"
     ]
    },
    {
     "cell_type": "code",
     "collapsed": false,
     "input": [
      "# Plot B, excluding B0\n",
      "plt.plot(B[:-1])\n",
      "\n",
      "print(\"B0 is\", B[-1])"
     ],
     "language": "python",
     "metadata": {},
     "outputs": [
      {
       "output_type": "stream",
       "stream": "stdout",
       "text": [
        "B0 is [ 1951.1221816]\n"
       ]
      },
      {
       "metadata": {},
       "output_type": "display_data",
       "png": "[encoded data removed]",
       "text": [
        "<matplotlib.figure.Figure at 0x95b7198>"
       ]
      }
     ],
     "prompt_number": 120
    },
    {
     "cell_type": "markdown",
     "metadata": {},
     "source": [
      "### (4)\n",
      "Linear regression isn't very effective ???"
     ]
    },
    {
     "cell_type": "markdown",
     "metadata": {},
     "source": [
      "## Problem 3"
     ]
    },
    {
     "cell_type": "code",
     "collapsed": false,
     "input": [
      "# Load the data\n",
      "mat = scipy.io.loadmat('data/spam.mat')\n",
      "xtrain, ytrain, xtest = mat['Xtrain'], mat['ytrain'], mat['Xtest']\n",
      "np.shape(xtrain)\n",
      "# images = np.reshape(mat['train_image'], (1, -1, 60000))[0].T\n",
      "# labels = mat['train_label']"
     ],
     "language": "python",
     "metadata": {},
     "outputs": [
      {
       "metadata": {},
       "output_type": "pyout",
       "prompt_number": 9,
       "text": [
        "(3450, 57)"
       ]
      }
     ],
     "prompt_number": 9
    }
   ],
   "metadata": {}
  }
 ]
}