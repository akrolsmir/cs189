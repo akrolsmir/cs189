{
 "metadata": {
  "name": "",
  "signature": "sha256:4f7e50e8bba4ba28dd4c99292c87e8691c25fd637d0a53a4a01cdd5556b17f37"
 },
 "nbformat": 3,
 "nbformat_minor": 0,
 "worksheets": [
  {
   "cells": [
    {
     "cell_type": "markdown",
     "metadata": {},
     "source": [
      "Homework 1\n",
      "==========\n",
      "\n",
      "- Name: Austin Chen\n",
      "- SID: 23826762\n",
      "- Repro: Open up hw1.ipynb in IPython Notebook.\n",
      "\n",
      "Problem 1\n",
      "---------"
     ]
    },
    {
     "cell_type": "code",
     "collapsed": false,
     "input": [
      "import numpy as np\n",
      "samples1 = np.random.normal(3, np.sqrt(9), 100)\n",
      "samples2 = np.random.normal(3, np.sqrt(9), 100) / 2 + np.random.normal(4, np.sqrt(4), 100)"
     ],
     "language": "python",
     "metadata": {},
     "outputs": [],
     "prompt_number": 64
    },
    {
     "cell_type": "markdown",
     "metadata": {},
     "source": [
      "### (a) Averages"
     ]
    },
    {
     "cell_type": "code",
     "collapsed": false,
     "input": [
      "u1 = np.average(samples1)\n",
      "u1"
     ],
     "language": "python",
     "metadata": {},
     "outputs": [
      {
       "metadata": {},
       "output_type": "pyout",
       "prompt_number": 65,
       "text": [
        "3.2836359758091511"
       ]
      }
     ],
     "prompt_number": 65
    },
    {
     "cell_type": "code",
     "collapsed": false,
     "input": [
      "u2 = np.average(samples2)\n",
      "u2"
     ],
     "language": "python",
     "metadata": {},
     "outputs": [
      {
       "metadata": {},
       "output_type": "pyout",
       "prompt_number": 66,
       "text": [
        "5.2978111466758779"
       ]
      }
     ],
     "prompt_number": 66
    },
    {
     "cell_type": "markdown",
     "metadata": {},
     "source": [
      "### (b) Covariance matrix"
     ]
    },
    {
     "cell_type": "code",
     "collapsed": false,
     "input": [
      "cov_matrix = np.cov(samples1, samples2)\n",
      "cov_matrix"
     ],
     "language": "python",
     "metadata": {},
     "outputs": [
      {
       "metadata": {},
       "output_type": "pyout",
       "prompt_number": 67,
       "text": [
        "array([[ 8.54124729,  0.12266349],\n",
        "       [ 0.12266349,  6.65896577]])"
       ]
      }
     ],
     "prompt_number": 67
    },
    {
     "cell_type": "markdown",
     "metadata": {},
     "source": [
      "### (c) Eigenvectors and eigenvalues"
     ]
    },
    {
     "cell_type": "code",
     "collapsed": false,
     "input": [
      "eigenvalues, eigenvectors = np.linalg.eig(cov_matrix)\n",
      "eigenvalues"
     ],
     "language": "python",
     "metadata": {},
     "outputs": [
      {
       "metadata": {},
       "output_type": "pyout",
       "prompt_number": 68,
       "text": [
        "array([ 8.5492073 ,  6.65100576])"
       ]
      }
     ],
     "prompt_number": 68
    },
    {
     "cell_type": "code",
     "collapsed": false,
     "input": [
      "eigenvectors"
     ],
     "language": "python",
     "metadata": {},
     "outputs": [
      {
       "metadata": {},
       "output_type": "pyout",
       "prompt_number": 69,
       "text": [
        "array([[ 0.99790107, -0.06475682],\n",
        "       [ 0.06475682,  0.99790107]])"
       ]
      }
     ],
     "prompt_number": 69
    },
    {
     "cell_type": "markdown",
     "metadata": {},
     "source": [
      "### (d) Plot"
     ]
    },
    {
     "cell_type": "code",
     "collapsed": false,
     "input": [
      "%matplotlib inline\n",
      "import matplotlib.pyplot as plt\n",
      "\n",
      "# Show the samples\n",
      "plt.plot(samples1, samples2, '.')\n",
      "plt.axis([-15, 15, -15, 15])\n",
      "plt.axes().set_aspect('equal')\n",
      "plt.xlabel('X1')\n",
      "plt.ylabel('X2')\n",
      "\n",
      "# Show the covariance eigenvectors\n",
      "U, V = zip(eigenvectors[:,0] * eigenvalues[0], eigenvectors[:,1] * eigenvalues[1])\n",
      "plt.quiver([u1, u1], [u2, u2], U, V, color='r', angles='xy', scale_units='xy', scale=1)\n",
      "\n",
      "plt.show()"
     ],
     "language": "python",
     "metadata": {},
     "outputs": [
      {
       "metadata": {},
       "output_type": "display_data",
       "png": "[encoded data removed]",
       "text": [
        "<matplotlib.figure.Figure at 0x5cf3d70>"
       ]
      }
     ],
     "prompt_number": 83
    },
    {
     "cell_type": "markdown",
     "metadata": {},
     "source": [
      "### (e) Plot, rotated"
     ]
    },
    {
     "cell_type": "code",
     "collapsed": false,
     "input": [
      "# Rotate the points\n",
      "inverted = np.vstack((eigenvectors[:,1], eigenvectors[:,0])).T\n",
      "U = eigenvectors if eigenvalues[0] > eigenvalues[1] else inverted\n",
      "r1, r2 = np.dot(U.T, np.vstack((samples1 - u1, samples2 - u2)))\n",
      "\n",
      "# Then plot them\n",
      "plt.plot(r1, r2, '.')\n",
      "plt.axis([-15, 15, -15, 15])\n",
      "plt.axes().set_aspect('equal')\n",
      "plt.show()"
     ],
     "language": "python",
     "metadata": {},
     "outputs": [
      {
       "metadata": {},
       "output_type": "display_data",
       "png": "[encoded data removed]",
       "text": [
        "<matplotlib.figure.Figure at 0x5cc7f10>"
       ]
      }
     ],
     "prompt_number": 79
    },
    {
     "cell_type": "heading",
     "level": 2,
     "metadata": {},
     "source": [
      "Problem 2"
     ]
    },
    {
     "cell_type": "heading",
     "level": 3,
     "metadata": {},
     "source": [
      "(a)"
     ]
    },
    {
     "cell_type": "markdown",
     "metadata": {},
     "source": [
      "If $X_1 = X_2$, for example. Deduplicate $X_i$s to solve (?)"
     ]
    },
    {
     "cell_type": "heading",
     "level": 2,
     "metadata": {},
     "source": [
      "Problem 3:"
     ]
    },
    {
     "cell_type": "code",
     "collapsed": false,
     "input": [
      "mean = [1, 1]\n",
      "cov = [[2, 0], [0, 1]]\n",
      "f = np.random.multivariate_normal(mean, cov, 100)\n",
      "# plt.contour(f)\n",
      "# f"
     ],
     "language": "python",
     "metadata": {},
     "outputs": [
      {
       "metadata": {},
       "output_type": "pyout",
       "prompt_number": 72,
       "text": [
        "array([[ 0.62999043,  3.24863392],\n",
        "       [-0.05649584,  1.25578409],\n",
        "       [ 1.07592666,  0.56020603],\n",
        "       [ 2.0262102 ,  1.50543983],\n",
        "       [ 0.93048662, -1.295854  ],\n",
        "       [ 0.34294966,  2.94260205],\n",
        "       [-1.16335139,  0.49342265],\n",
        "       [ 2.05068871,  0.6664603 ],\n",
        "       [-0.09429137, -0.16779346],\n",
        "       [ 1.51103151,  2.32997197],\n",
        "       [ 1.41285292,  1.00886935],\n",
        "       [ 1.59017255,  0.41702488],\n",
        "       [ 1.11194866,  0.34265087],\n",
        "       [ 0.3226545 ,  1.00243246],\n",
        "       [-0.40363526,  1.45971172],\n",
        "       [ 0.51627431,  0.40003206],\n",
        "       [ 3.08746634,  0.7246108 ],\n",
        "       [ 1.68782223,  0.311696  ],\n",
        "       [ 1.29751482, -0.82368833],\n",
        "       [ 0.08829434,  0.64279984],\n",
        "       [-0.34283057,  1.23184189],\n",
        "       [-0.31539611,  1.6532339 ],\n",
        "       [-0.04447689,  1.83914135],\n",
        "       [ 0.53935232,  1.17322481],\n",
        "       [ 1.33172614,  1.36317728],\n",
        "       [ 2.69352859,  1.42934384],\n",
        "       [ 1.97158648, -0.51112789],\n",
        "       [ 2.93259828,  1.31389305],\n",
        "       [-0.25728846,  1.37851003],\n",
        "       [ 0.88994574,  1.34778614],\n",
        "       [-0.36198257,  1.99258409],\n",
        "       [ 1.9037551 ,  0.71724882],\n",
        "       [ 1.32514423, -0.03173212],\n",
        "       [ 2.3994243 ,  0.75183324],\n",
        "       [ 0.17493851,  0.52526461],\n",
        "       [-0.0175263 ,  0.45471726],\n",
        "       [-0.14036132,  1.2084303 ],\n",
        "       [-0.03974724,  2.30434942],\n",
        "       [-0.16666311,  0.24029187],\n",
        "       [ 0.99243758,  0.46233274],\n",
        "       [-0.95179074,  1.23854328],\n",
        "       [-0.78582229, -0.14053293],\n",
        "       [ 0.45084346,  0.25967558],\n",
        "       [ 0.21612263,  2.59493187],\n",
        "       [-1.55362065,  0.43551433],\n",
        "       [ 3.16938932,  0.8557376 ],\n",
        "       [ 0.47285691,  0.60542086],\n",
        "       [ 1.0794683 ,  2.58921399],\n",
        "       [ 1.74518814, -0.31449278],\n",
        "       [ 0.69300863,  0.154659  ],\n",
        "       [-1.77159264,  0.93046901],\n",
        "       [-0.27694472, -1.37378085],\n",
        "       [ 0.4841514 ,  2.83513842],\n",
        "       [-0.06079292, -0.04425681],\n",
        "       [-1.28143422,  0.11422083],\n",
        "       [ 0.16415684,  0.48135567],\n",
        "       [ 0.6841208 ,  2.40225021],\n",
        "       [-0.67925381,  1.20033026],\n",
        "       [ 0.96631749,  1.1147937 ],\n",
        "       [ 2.36757695,  1.12471017],\n",
        "       [-0.25376043,  0.82177897],\n",
        "       [-0.28667364,  0.07013799],\n",
        "       [ 0.82975616,  0.69766471],\n",
        "       [-0.06874529,  0.47144973],\n",
        "       [-0.10928279,  1.02202099],\n",
        "       [ 2.2225659 ,  1.36146463],\n",
        "       [ 0.43613345,  0.80339838],\n",
        "       [-0.04310072,  2.26067216],\n",
        "       [ 1.45225959, -0.4126915 ],\n",
        "       [ 0.52707434,  1.82616139],\n",
        "       [ 0.99834313,  0.89170493],\n",
        "       [ 1.33648256,  0.53979984],\n",
        "       [ 0.1946919 , -0.66135553],\n",
        "       [ 1.54039354, -0.44748915],\n",
        "       [ 0.99271473,  1.52206792],\n",
        "       [ 0.7203009 ,  1.63952933],\n",
        "       [ 1.63453729,  1.56696069],\n",
        "       [ 1.87016281,  1.12940311],\n",
        "       [-0.74705281, -0.50346206],\n",
        "       [-0.01461667, -0.17738269],\n",
        "       [ 3.57240563,  1.16978186],\n",
        "       [ 3.38007369,  0.51211219],\n",
        "       [ 1.10114834, -0.41747492],\n",
        "       [-1.5540874 , -0.43812708],\n",
        "       [ 2.56807049,  1.20906858],\n",
        "       [ 2.73024349,  1.28767803],\n",
        "       [-0.20366699, -0.02277016],\n",
        "       [ 1.6153078 ,  2.28356456],\n",
        "       [-0.8771162 ,  4.36847661],\n",
        "       [ 0.55825771, -0.16220306],\n",
        "       [ 1.73141454,  2.00271526],\n",
        "       [-2.35114617, -0.02298325],\n",
        "       [ 0.96067883,  0.59669957],\n",
        "       [ 1.75610191,  0.99326402],\n",
        "       [ 0.04495114,  0.37380414],\n",
        "       [ 0.00543368,  0.19593658],\n",
        "       [-0.2481254 ,  0.61639907],\n",
        "       [ 1.81028183,  1.92150863],\n",
        "       [ 3.41661855,  0.75641324],\n",
        "       [ 0.27810625,  0.39851007]])"
       ]
      }
     ],
     "prompt_number": 72
    },
    {
     "cell_type": "code",
     "collapsed": false,
     "input": [
      "# http://matplotlib.org/examples/pylab_examples/contour_demo.html\n",
      "import matplotlib.mlab as mlab\n",
      "\n",
      "delta = 0.025\n",
      "x = np.arange(-5.0, 5.0, delta)\n",
      "y = np.arange(-5.0, 5.0, delta)\n",
      "X, Y = np.meshgrid(x, y)\n",
      "\n",
      "Z = mlab.bivariate_normal(X, Y, sigmax=2, sigmay=1, mux=1, muy=1, sigmaxy=0)\n",
      "CS = plt.contour(X, Y, Z)\n",
      "plt.clabel(CS, inline=1, fontsize=8)\n",
      "plt.axes().set_aspect('equal')"
     ],
     "language": "python",
     "metadata": {},
     "outputs": [
      {
       "metadata": {},
       "output_type": "display_data",
       "png": "[encoded data removed]",
       "text": [
        "<matplotlib.figure.Figure at 0x5e0d570>"
       ]
      }
     ],
     "prompt_number": 73
    },
    {
     "cell_type": "code",
     "collapsed": false,
     "input": [
      "Z = mlab.bivariate_normal(X, Y, sigmax=3, sigmay=2, mux=-1, muy=2, sigmaxy=1)\n",
      "CS = plt.contour(X, Y, Z)\n",
      "plt.clabel(CS, inline=1, fontsize=8)\n",
      "plt.axes().set_aspect('equal')"
     ],
     "language": "python",
     "metadata": {},
     "outputs": [
      {
       "metadata": {},
       "output_type": "display_data",
       "png": "[encoded data removed]",
       "text": [
        "<matplotlib.figure.Figure at 0x5d8fe90>"
       ]
      }
     ],
     "prompt_number": 74
    },
    {
     "cell_type": "code",
     "collapsed": false,
     "input": [
      "Z1 = mlab.bivariate_normal(X, Y, sigmax=1, sigmay=2, mux=0, muy=2, sigmaxy=1)\n",
      "Z2 = mlab.bivariate_normal(X, Y, sigmax=1, sigmay=2, mux=2, muy=0, sigmaxy=1)\n",
      "Z = Z1 - Z2\n",
      "\n",
      "CS = plt.contour(X, Y, Z)\n",
      "plt.clabel(CS, inline=1, fontsize=8)\n",
      "plt.axes().set_aspect('equal')"
     ],
     "language": "python",
     "metadata": {},
     "outputs": [
      {
       "metadata": {},
       "output_type": "display_data",
       "png": "[encoded data removed]",
       "text": [
        "<matplotlib.figure.Figure at 0x5cc7f70>"
       ]
      }
     ],
     "prompt_number": 75
    },
    {
     "cell_type": "heading",
     "level": 2,
     "metadata": {},
     "source": [
      "Problem 4"
     ]
    },
    {
     "cell_type": "code",
     "collapsed": false,
     "input": [
      "# http://stackoverflow.com/a/11507723/1222351\n",
      "import scipy.io\n",
      "mat = scipy.io.loadmat('data/digit-dataset/train.mat')\n",
      "images = np.reshape(mat['train_image'], (1, -1, 60000))[0].T\n",
      "labels = mat['train_label']\n",
      "\n",
      "means, covs, counts = [], [], []\n",
      "for digit in range(10):\n",
      "    # Filter out the class, then normalize\n",
      "    # Courtesy http://stackoverflow.com/a/12712725/1222351\n",
      "    zeros = np.array([label[0] == digit for label in labels])\n",
      "    i = images[zeros].astype(float)\n",
      "    i /= np.sqrt((i ** 2).sum(-1))[..., np.newaxis]\n",
      "\n",
      "    # Calculate mean and covariance\n",
      "    mean = sum(i) / len(i)\n",
      "    cov = np.cov(i, rowvar=0)\n",
      "    \n",
      "    means.append(mean)\n",
      "    covs.append(cov)\n",
      "    counts.append(len(i))\n",
      "\n",
      "counts"
     ],
     "language": "python",
     "metadata": {},
     "outputs": [
      {
       "metadata": {},
       "output_type": "pyout",
       "prompt_number": 109,
       "text": [
        "[5877, 6750, 6001, 6097, 5876, 5414, 5945, 6236, 5853, 5951]"
       ]
      }
     ],
     "prompt_number": 109
    },
    {
     "cell_type": "code",
     "collapsed": false,
     "input": [
      "mat = scipy.io.loadmat('data/digit-dataset/test.mat')\n",
      "test = np.reshape(mat['test_image'], (1, -1, 5000))[0].T\n",
      "test_label = mat['test_label']\n",
      "\n",
      "def classify(image):\n",
      "    return max(range(10), key=lambda x: cc(image, x))\n",
      "\n",
      "from scipy.stats import multivariate_normal as m\n",
      "\n",
      "# Class conditional probability i.e. P(x|c)\n",
      "def cc(image, digit):\n",
      "    print('start')\n",
      "    covvv = covs[digit]\n",
      "    covvv += np.eye(len(covvv)) * 0.001\n",
      "    r = m.logpdf(image, means[digit], covs[digit])\n",
      "    print(r)\n",
      "    prior = counts[digit] / sum(counts)\n",
      "    print('end')\n",
      "    return r + np.log(prior)\n",
      "\n",
      "classify(test[100])\n",
      "# test_label[100]\n",
      "\n",
      "\n"
     ],
     "language": "python",
     "metadata": {},
     "outputs": []
    },
    {
     "cell_type": "code",
     "collapsed": false,
     "input": [
      "mean = [mu1, mu2.... mun]\n"
     ],
     "language": "python",
     "metadata": {},
     "outputs": [
      {
       "ename": "SyntaxError",
       "evalue": "invalid syntax (<ipython-input-77-266d5c267d0a>, line 1)",
       "output_type": "pyerr",
       "traceback": [
        "\u001b[1;36m  File \u001b[1;32m\"<ipython-input-77-266d5c267d0a>\"\u001b[1;36m, line \u001b[1;32m1\u001b[0m\n\u001b[1;33m    mean = [mu1, mu2.... mun]\u001b[0m\n\u001b[1;37m                      ^\u001b[0m\n\u001b[1;31mSyntaxError\u001b[0m\u001b[1;31m:\u001b[0m invalid syntax\n"
       ]
      }
     ],
     "prompt_number": 77
    }
   ],
   "metadata": {}
  }
 ]
}