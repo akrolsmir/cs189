{
 "metadata": {
  "name": "",
  "signature": "sha256:118b0dea52635c7228403042c058c247589f43520ea9b71191e660814659cd2a"
 },
 "nbformat": 3,
 "nbformat_minor": 0,
 "worksheets": [
  {
   "cells": [
    {
     "cell_type": "markdown",
     "metadata": {},
     "source": [
      "Homework 1\n",
      "==========\n",
      "\n",
      "- Name: Austin Chen\n",
      "- SID: 23826762\n",
      "- Repro: Open up hw1.ipynb in IPython Notebook.\n",
      "\n",
      "Problem 1\n",
      "---------"
     ]
    },
    {
     "cell_type": "code",
     "collapsed": false,
     "input": [
      "import numpy as np\n",
      "samples1 = np.random.normal(3, np.sqrt(9), 100)\n",
      "samples2 = np.random.normal(3, np.sqrt(9), 100) / 2 + np.random.normal(4, np.sqrt(4), 100)"
     ],
     "language": "python",
     "metadata": {},
     "outputs": [],
     "prompt_number": 2
    },
    {
     "cell_type": "markdown",
     "metadata": {},
     "source": [
      "### (a) Averages"
     ]
    },
    {
     "cell_type": "code",
     "collapsed": false,
     "input": [
      "u1 = np.average(samples1)\n",
      "u1"
     ],
     "language": "python",
     "metadata": {},
     "outputs": [
      {
       "metadata": {},
       "output_type": "pyout",
       "prompt_number": 26,
       "text": [
        "3.4484330368455702"
       ]
      }
     ],
     "prompt_number": 26
    },
    {
     "cell_type": "code",
     "collapsed": false,
     "input": [
      "u2 = np.average(samples2)\n",
      "u2"
     ],
     "language": "python",
     "metadata": {},
     "outputs": [
      {
       "metadata": {},
       "output_type": "pyout",
       "prompt_number": 27,
       "text": [
        "5.2940509121320716"
       ]
      }
     ],
     "prompt_number": 27
    },
    {
     "cell_type": "markdown",
     "metadata": {},
     "source": [
      "### (b) Covariance matrix"
     ]
    },
    {
     "cell_type": "code",
     "collapsed": false,
     "input": [
      "cov_matrix = np.cov(samples1, samples2)\n",
      "cov_matrix"
     ],
     "language": "python",
     "metadata": {},
     "outputs": [
      {
       "metadata": {},
       "output_type": "pyout",
       "prompt_number": 28,
       "text": [
        "array([[ 11.34352282,  -1.26431018],\n",
        "       [ -1.26431018,   5.80999454]])"
       ]
      }
     ],
     "prompt_number": 28
    },
    {
     "cell_type": "markdown",
     "metadata": {},
     "source": [
      "### (c) Eigenvectors and eigenvalues"
     ]
    },
    {
     "cell_type": "code",
     "collapsed": false,
     "input": [
      "eigenvalues, eigenvectors = np.linalg.eig(cov_matrix)\n",
      "eigenvalues"
     ],
     "language": "python",
     "metadata": {},
     "outputs": [
      {
       "metadata": {},
       "output_type": "pyout",
       "prompt_number": 29,
       "text": [
        "array([ 11.61870937,   5.53480798])"
       ]
      }
     ],
     "prompt_number": 29
    },
    {
     "cell_type": "code",
     "collapsed": false,
     "input": [
      "eigenvectors"
     ],
     "language": "python",
     "metadata": {},
     "outputs": [
      {
       "metadata": {},
       "output_type": "pyout",
       "prompt_number": 30,
       "text": [
        "array([[ 0.97712235,  0.21267798],\n",
        "       [-0.21267798,  0.97712235]])"
       ]
      }
     ],
     "prompt_number": 30
    },
    {
     "cell_type": "markdown",
     "metadata": {},
     "source": [
      "### (d) Plot"
     ]
    },
    {
     "cell_type": "code",
     "collapsed": false,
     "input": [
      "%matplotlib inline\n",
      "import matplotlib.pyplot as plt\n",
      "\n",
      "# Show the samples\n",
      "plt.plot(samples1, samples2, '.')\n",
      "plt.axis([-15, 15, -15, 15])\n",
      "plt.axes().set_aspect('equal')\n",
      "plt.xlabel('X1')\n",
      "plt.ylabel('X2')\n",
      "\n",
      "# Show the covariance eigenvectors\n",
      "U, V = zip(eigenvectors[:,0] * eigenvalues[0], eigenvectors[:,1] * eigenvalues[1])\n",
      "plt.quiver([u1, u1], [u2, u2], U, V, color='r', angles='xy', scale_units='xy', scale=1)\n",
      "\n",
      "plt.show()"
     ],
     "language": "python",
     "metadata": {},
     "outputs": [
      {
       "metadata": {},
       "output_type": "display_data",
       "png": "[encoded data removed]",
       "text": [
        "<matplotlib.figure.Figure at 0x8b73070>"
       ]
      }
     ],
     "prompt_number": 31
    },
    {
     "cell_type": "markdown",
     "metadata": {},
     "source": [
      "### (e) Plot, rotated"
     ]
    },
    {
     "cell_type": "code",
     "collapsed": false,
     "input": [
      "# Rotate the points\n",
      "inverted = np.vstack((eigenvectors[:,1], eigenvectors[:,0])).T\n",
      "U = eigenvectors if eigenvalues[0] > eigenvalues[1] else inverted\n",
      "r1, r2 = np.dot(U.T, np.vstack((samples1 - u1, samples2 - u2)))\n",
      "\n",
      "# Then plot them\n",
      "plt.plot(r1, r2, '.')\n",
      "plt.axis([-15, 15, -15, 15])\n",
      "plt.axes().set_aspect('equal')\n",
      "plt.show()"
     ],
     "language": "python",
     "metadata": {},
     "outputs": [
      {
       "metadata": {},
       "output_type": "display_data",
       "png": "[encoded data removed]",
       "text": [
        "<matplotlib.figure.Figure at 0x8babdf0>"
       ]
      }
     ],
     "prompt_number": 32
    },
    {
     "cell_type": "heading",
     "level": 2,
     "metadata": {},
     "source": [
      "Problem 2"
     ]
    },
    {
     "cell_type": "heading",
     "level": 3,
     "metadata": {},
     "source": [
      "(a)"
     ]
    },
    {
     "cell_type": "markdown",
     "metadata": {},
     "source": [
      "If $X_1 = X_2$, for example. Deduplicate $X_i$s to solve (?)"
     ]
    },
    {
     "cell_type": "heading",
     "level": 2,
     "metadata": {},
     "source": [
      "Problem 3"
     ]
    },
    {
     "cell_type": "code",
     "collapsed": false,
     "input": [
      "# http://matplotlib.org/examples/pylab_examples/contour_demo.html\n",
      "import matplotlib.mlab as mlab\n",
      "\n",
      "delta = 0.025\n",
      "x = np.arange(-5.0, 5.0, delta)\n",
      "y = np.arange(-5.0, 5.0, delta)\n",
      "X, Y = np.meshgrid(x, y)\n",
      "\n",
      "def isocontour(Z):\n",
      "    CS = plt.contour(X, Y, Z)\n",
      "    plt.clabel(CS, inline=1, fontsize=8)\n",
      "    plt.axes().set_aspect('equal')"
     ],
     "language": "python",
     "metadata": {},
     "outputs": [],
     "prompt_number": 33
    },
    {
     "cell_type": "heading",
     "level": 3,
     "metadata": {},
     "source": [
      "(a)"
     ]
    },
    {
     "cell_type": "code",
     "collapsed": false,
     "input": [
      "Z = mlab.bivariate_normal(X, Y, sigmax=2, sigmay=1, mux=1, muy=1, sigmaxy=0)\n",
      "isocontour(Z)"
     ],
     "language": "python",
     "metadata": {},
     "outputs": [
      {
       "metadata": {},
       "output_type": "display_data",
       "png": "[encoded data removed]",
       "text": [
        "<matplotlib.figure.Figure at 0x5d2d0f0>"
       ]
      }
     ],
     "prompt_number": 34
    },
    {
     "cell_type": "heading",
     "level": 3,
     "metadata": {},
     "source": [
      "(b)"
     ]
    },
    {
     "cell_type": "code",
     "collapsed": false,
     "input": [
      "Z = mlab.bivariate_normal(X, Y, sigmax=3, sigmay=2, mux=-1, muy=2, sigmaxy=1)\n",
      "isocontour(Z)"
     ],
     "language": "python",
     "metadata": {},
     "outputs": [
      {
       "metadata": {},
       "output_type": "display_data",
       "png": "[encoded data removed]",
       "text": [
        "<matplotlib.figure.Figure at 0x5d2d090>"
       ]
      }
     ],
     "prompt_number": 35
    },
    {
     "cell_type": "heading",
     "level": 3,
     "metadata": {},
     "source": [
      "(c)"
     ]
    },
    {
     "cell_type": "code",
     "collapsed": false,
     "input": [
      "Z1 = mlab.bivariate_normal(X, Y, sigmax=1, sigmay=2, mux=0, muy=2, sigmaxy=1)\n",
      "Z2 = mlab.bivariate_normal(X, Y, sigmax=1, sigmay=2, mux=2, muy=0, sigmaxy=1)\n",
      "isocontour(Z1 - Z2)"
     ],
     "language": "python",
     "metadata": {},
     "outputs": [
      {
       "metadata": {},
       "output_type": "display_data",
       "png": "[encoded data removed]",
       "text": [
        "<matplotlib.figure.Figure at 0x5d2d050>"
       ]
      }
     ],
     "prompt_number": 36
    },
    {
     "cell_type": "heading",
     "level": 3,
     "metadata": {},
     "source": [
      "(d)"
     ]
    },
    {
     "cell_type": "code",
     "collapsed": false,
     "input": [
      "Z1 = mlab.bivariate_normal(X, Y, sigmax=1, sigmay=2, mux=0, muy=2, sigmaxy=1)\n",
      "Z2 = mlab.bivariate_normal(X, Y, sigmax=3, sigmay=2, mux=2, muy=0, sigmaxy=1)\n",
      "isocontour(Z1 - Z2)"
     ],
     "language": "python",
     "metadata": {},
     "outputs": [
      {
       "metadata": {},
       "output_type": "display_data",
       "png": "[encoded data removed]",
       "text": [
        "<matplotlib.figure.Figure at 0x9688c10>"
       ]
      }
     ],
     "prompt_number": 124
    },
    {
     "cell_type": "heading",
     "level": 3,
     "metadata": {},
     "source": [
      "(e)"
     ]
    },
    {
     "cell_type": "code",
     "collapsed": false,
     "input": [
      "Z1 = mlab.bivariate_normal(X, Y, sigmax=1, sigmay=2, mux=1, muy=1, sigmaxy=0)\n",
      "Z2 = mlab.bivariate_normal(X, Y, sigmax=2, sigmay=2, mux=-1, muy=-1, sigmaxy=1)\n",
      "isocontour(Z1 - Z2)"
     ],
     "language": "python",
     "metadata": {},
     "outputs": [
      {
       "metadata": {},
       "output_type": "display_data",
       "png": "[encoded data removed]",
       "text": [
        "<matplotlib.figure.Figure at 0x9688110>"
       ]
      }
     ],
     "prompt_number": 125
    },
    {
     "cell_type": "heading",
     "level": 2,
     "metadata": {},
     "source": [
      "Problem 4"
     ]
    },
    {
     "cell_type": "code",
     "collapsed": false,
     "input": [
      "# Load the data\n",
      "import scipy.io\n",
      "mat = scipy.io.loadmat('data/digit-dataset/train.mat')\n",
      "images = np.reshape(mat['train_image'], (1, -1, 60000))[0].T\n",
      "labels = mat['train_label']\n",
      "\n",
      "# Shuffle the data in parallel\n",
      "p = np.random.permutation(len(images))\n",
      "images, labels = images[p], labels[p]"
     ],
     "language": "python",
     "metadata": {},
     "outputs": [],
     "prompt_number": 121
    },
    {
     "cell_type": "code",
     "collapsed": false,
     "input": [
      "from scipy.stats import multivariate_normal as m\n",
      "from sklearn.preprocessing import normalize\n",
      "\n",
      "def make_classifier(images, labels, average_cov):\n",
      "    # Model each class as a Gaussian\n",
      "    classes = list(set(labels[:,0]))\n",
      "    means, covs, priors = [], [], []\n",
      "    for c in classes:\n",
      "        # Filter out the class, then normalize\n",
      "        locs = np.array([label[0] == c for label in labels])\n",
      "        data = normalize(images[locs].astype(float), norm='l2')\n",
      "\n",
      "        # Calculate mean, covariance, and priors\n",
      "        means.append(sum(data) / len(data))\n",
      "        covs.append(np.cov(data, rowvar=0))\n",
      "        priors.append(len(data) / len(images))\n",
      "    \n",
      "    # Class conditional distributions i.e. P(x|c)\n",
      "    if average_cov:\n",
      "        overall = sum(covs) / len(covs)\n",
      "        rvs = [m(mean, overall, True) for mean in means]\n",
      "    else:\n",
      "        rvs = [m(mean, cov, True) for mean, cov in zip(means, covs)]\n",
      "    \n",
      "    # Posterior probability i.e. P(x|c)*P(c)\n",
      "    def posterior(image, c):\n",
      "        return rvs[c].logpdf(image) + np.log(priors[c])\n",
      "\n",
      "    # Return the trained classifying function\n",
      "    def classify(image):\n",
      "        return max(classes, key=lambda c: posterior(image, c))\n",
      "    return classify \n",
      "\n",
      "def score(images, labels, tests, answers, average_cov):\n",
      "    classify = make_classifier(images, labels, average_cov)\n",
      "    correct = sum(classify(t) == a for t, a in zip(tests, answers))\n",
      "    return correct / len(tests)"
     ],
     "language": "python",
     "metadata": {},
     "outputs": [],
     "prompt_number": 122
    },
    {
     "cell_type": "markdown",
     "metadata": {},
     "source": [
      "### (a)\n",
      "Mean is unbiased. Covariance is not.\n",
      "\n",
      "### (b)\n",
      "The priors for each class can be approximated by the frequency of that class in the training labels. For example, if the 11% of the training labels were '8', we could say that the prior probability of an '8' is 0.11.\n",
      "\n",
      "### (c)"
     ]
    },
    {
     "cell_type": "code",
     "collapsed": false,
     "input": [
      "# Generate covariance matrix for 8s\n",
      "locs = np.array([label[0] == 8 for label in labels])\n",
      "data = normalize(images[locs].astype(float), norm='l2')\n",
      "cov = np.cov(data, rowvar=0)\n",
      "\n",
      "# Visualize\n",
      "plt.matshow(cov)\n",
      "plt.colorbar()"
     ],
     "language": "python",
     "metadata": {},
     "outputs": [
      {
       "metadata": {},
       "output_type": "pyout",
       "prompt_number": 132,
       "text": [
        "<matplotlib.colorbar.Colorbar at 0xd8884f0>"
       ]
      },
      {
       "metadata": {},
       "output_type": "display_data",
       "png": "[encoded data removed]",
       "text": [
        "<matplotlib.figure.Figure at 0xd83c430>"
       ]
      }
     ],
     "prompt_number": 132
    },
    {
     "cell_type": "heading",
     "level": 3,
     "metadata": {},
     "source": [
      "(d.i) Averaged covariance matrix"
     ]
    },
    {
     "cell_type": "code",
     "collapsed": false,
     "input": [
      "# Load the test data\n",
      "mat = scipy.io.loadmat('data/digit-dataset/test.mat')\n",
      "test = np.reshape(mat['test_image'], (1, -1, 5000))[0].T\n",
      "answers = mat['test_label']"
     ],
     "language": "python",
     "metadata": {},
     "outputs": [],
     "prompt_number": 23
    },
    {
     "cell_type": "code",
     "collapsed": false,
     "input": [
      "x = [100, 200, 500, 1000, 2000, 5000, 10000, 30000, 60000]\n",
      "y1 = [score(images[:size], labels[:size], test, answers, True) for size in x]"
     ],
     "language": "python",
     "metadata": {},
     "outputs": [
      {
       "output_type": "stream",
       "stream": "stdout",
       "text": [
        "starting...\n",
        "classes..."
       ]
      },
      {
       "output_type": "stream",
       "stream": "stdout",
       "text": [
        "\n",
        "classifying..."
       ]
      },
      {
       "output_type": "stream",
       "stream": "stdout",
       "text": [
        "\n",
        "[135]"
       ]
      },
      {
       "output_type": "stream",
       "stream": "stdout",
       "text": [
        "\n",
        "starting...\n",
        "classes..."
       ]
      },
      {
       "output_type": "stream",
       "stream": "stdout",
       "text": [
        "\n",
        "classifying..."
       ]
      },
      {
       "output_type": "stream",
       "stream": "stdout",
       "text": [
        "\n",
        "[310]"
       ]
      },
      {
       "output_type": "stream",
       "stream": "stdout",
       "text": [
        "\n",
        "starting...\n",
        "classes..."
       ]
      },
      {
       "output_type": "stream",
       "stream": "stdout",
       "text": [
        "\n",
        "classifying..."
       ]
      },
      {
       "output_type": "stream",
       "stream": "stdout",
       "text": [
        "\n",
        "[535]"
       ]
      },
      {
       "output_type": "stream",
       "stream": "stdout",
       "text": [
        "\n",
        "starting...\n",
        "classes..."
       ]
      },
      {
       "output_type": "stream",
       "stream": "stdout",
       "text": [
        "\n",
        "classifying..."
       ]
      },
      {
       "output_type": "stream",
       "stream": "stdout",
       "text": [
        "\n",
        "[952]"
       ]
      },
      {
       "output_type": "stream",
       "stream": "stdout",
       "text": [
        "\n",
        "starting...\n",
        "classes..."
       ]
      },
      {
       "output_type": "stream",
       "stream": "stdout",
       "text": [
        "\n",
        "classifying..."
       ]
      },
      {
       "output_type": "stream",
       "stream": "stdout",
       "text": [
        "\n",
        "[1900]"
       ]
      },
      {
       "output_type": "stream",
       "stream": "stdout",
       "text": [
        "\n",
        "starting...\n",
        "classes..."
       ]
      },
      {
       "output_type": "stream",
       "stream": "stdout",
       "text": [
        "\n",
        "classifying..."
       ]
      },
      {
       "output_type": "stream",
       "stream": "stdout",
       "text": [
        "\n",
        "[2202]"
       ]
      },
      {
       "output_type": "stream",
       "stream": "stdout",
       "text": [
        "\n",
        "starting...\n",
        "classes..."
       ]
      },
      {
       "output_type": "stream",
       "stream": "stdout",
       "text": [
        "\n",
        "classifying..."
       ]
      },
      {
       "output_type": "stream",
       "stream": "stdout",
       "text": [
        "\n",
        "[3864]"
       ]
      },
      {
       "output_type": "stream",
       "stream": "stdout",
       "text": [
        "\n",
        "starting...\n",
        "classes..."
       ]
      },
      {
       "output_type": "stream",
       "stream": "stdout",
       "text": [
        "\n",
        "classifying..."
       ]
      },
      {
       "output_type": "stream",
       "stream": "stdout",
       "text": [
        "\n",
        "[4096]"
       ]
      },
      {
       "output_type": "stream",
       "stream": "stdout",
       "text": [
        "\n",
        "starting...\n",
        "classes..."
       ]
      },
      {
       "output_type": "stream",
       "stream": "stdout",
       "text": [
        "\n",
        "classifying..."
       ]
      },
      {
       "output_type": "stream",
       "stream": "stdout",
       "text": [
        "\n",
        "[4128]"
       ]
      },
      {
       "output_type": "stream",
       "stream": "stdout",
       "text": [
        "\n"
       ]
      },
      {
       "ename": "NameError",
       "evalue": "name 'plt' is not defined",
       "output_type": "pyerr",
       "traceback": [
        "\u001b[1;31m---------------------------------------------------------------------------\u001b[0m\n\u001b[1;31mNameError\u001b[0m                                 Traceback (most recent call last)",
        "\u001b[1;32m<ipython-input-24-54fd02430ab8>\u001b[0m in \u001b[0;36m<module>\u001b[1;34m()\u001b[0m\n\u001b[0;32m      2\u001b[0m \u001b[0my\u001b[0m \u001b[1;33m=\u001b[0m \u001b[1;33m[\u001b[0m\u001b[0mscore\u001b[0m\u001b[1;33m(\u001b[0m\u001b[0mimages\u001b[0m\u001b[1;33m[\u001b[0m\u001b[1;33m:\u001b[0m\u001b[0msize\u001b[0m\u001b[1;33m]\u001b[0m\u001b[1;33m,\u001b[0m \u001b[0mlabels\u001b[0m\u001b[1;33m[\u001b[0m\u001b[1;33m:\u001b[0m\u001b[0msize\u001b[0m\u001b[1;33m]\u001b[0m\u001b[1;33m,\u001b[0m \u001b[0mtest\u001b[0m\u001b[1;33m,\u001b[0m \u001b[0manswers\u001b[0m\u001b[1;33m,\u001b[0m \u001b[1;32mFalse\u001b[0m\u001b[1;33m)\u001b[0m \u001b[1;32mfor\u001b[0m \u001b[0msize\u001b[0m \u001b[1;32min\u001b[0m \u001b[0mx\u001b[0m\u001b[1;33m]\u001b[0m\u001b[1;33m\u001b[0m\u001b[0m\n\u001b[0;32m      3\u001b[0m \u001b[1;33m\u001b[0m\u001b[0m\n\u001b[1;32m----> 4\u001b[1;33m \u001b[0mplt\u001b[0m\u001b[1;33m.\u001b[0m\u001b[0mplot\u001b[0m\u001b[1;33m(\u001b[0m\u001b[0mx\u001b[0m\u001b[1;33m,\u001b[0m \u001b[0my\u001b[0m\u001b[1;33m)\u001b[0m\u001b[1;33m\u001b[0m\u001b[0m\n\u001b[0m",
        "\u001b[1;31mNameError\u001b[0m: name 'plt' is not defined"
       ]
      }
     ],
     "prompt_number": 24
    },
    {
     "cell_type": "code",
     "collapsed": false,
     "input": [
      "plt.plot(x, np.ones(len(y1)) - y1)\n",
      "plt.title('Error rate vs samples')\n",
      "plt.show()"
     ],
     "language": "python",
     "metadata": {},
     "outputs": [
      {
       "metadata": {},
       "output_type": "display_data",
       "png": "[encoded data removed]",
       "text": [
        "<matplotlib.figure.Figure at 0x9320ad0>"
       ]
      }
     ],
     "prompt_number": 42
    },
    {
     "cell_type": "heading",
     "level": 3,
     "metadata": {},
     "source": [
      "(d.ii) Unique covariance matrices"
     ]
    },
    {
     "cell_type": "code",
     "collapsed": false,
     "input": [
      "x = [100, 200, 500, 1000, 2000, 5000, 10000, 30000, 60000]\n",
      "y2 = [score(images[:size], labels[:size], test, answers, False) for size in x]"
     ],
     "language": "python",
     "metadata": {},
     "outputs": [
      {
       "output_type": "stream",
       "stream": "stdout",
       "text": [
        "starting...\n",
        "classes..."
       ]
      },
      {
       "output_type": "stream",
       "stream": "stdout",
       "text": [
        "\n",
        "classifying..."
       ]
      },
      {
       "output_type": "stream",
       "stream": "stdout",
       "text": [
        "\n",
        "[2082]"
       ]
      },
      {
       "output_type": "stream",
       "stream": "stdout",
       "text": [
        "\n",
        "starting...\n",
        "classes..."
       ]
      },
      {
       "output_type": "stream",
       "stream": "stdout",
       "text": [
        "\n",
        "classifying..."
       ]
      },
      {
       "output_type": "stream",
       "stream": "stdout",
       "text": [
        "\n",
        "[2764]"
       ]
      },
      {
       "output_type": "stream",
       "stream": "stdout",
       "text": [
        "\n",
        "starting...\n",
        "classes..."
       ]
      },
      {
       "output_type": "stream",
       "stream": "stdout",
       "text": [
        "\n",
        "classifying..."
       ]
      },
      {
       "output_type": "stream",
       "stream": "stdout",
       "text": [
        "\n",
        "[1091]"
       ]
      },
      {
       "output_type": "stream",
       "stream": "stdout",
       "text": [
        "\n",
        "starting...\n",
        "classes..."
       ]
      },
      {
       "output_type": "stream",
       "stream": "stdout",
       "text": [
        "\n",
        "classifying..."
       ]
      },
      {
       "output_type": "stream",
       "stream": "stdout",
       "text": [
        "\n",
        "[2026]"
       ]
      },
      {
       "output_type": "stream",
       "stream": "stdout",
       "text": [
        "\n",
        "starting...\n",
        "classes..."
       ]
      },
      {
       "output_type": "stream",
       "stream": "stdout",
       "text": [
        "\n",
        "classifying..."
       ]
      },
      {
       "output_type": "stream",
       "stream": "stdout",
       "text": [
        "\n",
        "[2752]"
       ]
      },
      {
       "output_type": "stream",
       "stream": "stdout",
       "text": [
        "\n",
        "starting...\n",
        "classes..."
       ]
      },
      {
       "output_type": "stream",
       "stream": "stdout",
       "text": [
        "\n",
        "classifying..."
       ]
      },
      {
       "output_type": "stream",
       "stream": "stdout",
       "text": [
        "\n",
        "[2811]"
       ]
      },
      {
       "output_type": "stream",
       "stream": "stdout",
       "text": [
        "\n",
        "starting...\n",
        "classes..."
       ]
      },
      {
       "output_type": "stream",
       "stream": "stdout",
       "text": [
        "\n",
        "classifying..."
       ]
      },
      {
       "output_type": "stream",
       "stream": "stdout",
       "text": [
        "\n",
        "[2865]"
       ]
      },
      {
       "output_type": "stream",
       "stream": "stdout",
       "text": [
        "\n",
        "starting...\n",
        "classes..."
       ]
      },
      {
       "output_type": "stream",
       "stream": "stdout",
       "text": [
        "\n",
        "classifying..."
       ]
      },
      {
       "output_type": "stream",
       "stream": "stdout",
       "text": [
        "\n",
        "[2857]"
       ]
      },
      {
       "output_type": "stream",
       "stream": "stdout",
       "text": [
        "\n",
        "starting...\n",
        "classes..."
       ]
      },
      {
       "output_type": "stream",
       "stream": "stdout",
       "text": [
        "\n",
        "classifying..."
       ]
      },
      {
       "output_type": "stream",
       "stream": "stdout",
       "text": [
        "\n",
        "[2854]"
       ]
      },
      {
       "output_type": "stream",
       "stream": "stdout",
       "text": [
        "\n"
       ]
      },
      {
       "metadata": {},
       "output_type": "pyout",
       "prompt_number": 45,
       "text": [
        "([100, 200, 500, 1000, 2000, 5000, 10000, 30000, 60000],\n",
        " [array([ 0.4164]),\n",
        "  array([ 0.5528]),\n",
        "  array([ 0.2182]),\n",
        "  array([ 0.4052]),\n",
        "  array([ 0.5504]),\n",
        "  array([ 0.5622]),\n",
        "  array([ 0.573]),\n",
        "  array([ 0.5714]),\n",
        "  array([ 0.5708])])"
       ]
      }
     ],
     "prompt_number": 45
    },
    {
     "cell_type": "code",
     "collapsed": false,
     "input": [],
     "language": "python",
     "metadata": {},
     "outputs": [
      {
       "metadata": {},
       "output_type": "pyout",
       "prompt_number": 139,
       "text": [
        "[array([ 0.4164]),\n",
        " array([ 0.5528]),\n",
        " array([ 0.2182]),\n",
        " array([ 0.4052]),\n",
        " array([ 0.5504]),\n",
        " array([ 0.5622]),\n",
        " array([ 0.573]),\n",
        " array([ 0.5714]),\n",
        " array([ 0.5708])]"
       ]
      }
     ],
     "prompt_number": 139
    },
    {
     "cell_type": "code",
     "collapsed": false,
     "input": [
      "plt.plot(x, np.ones(len(y2)) - y2)\n",
      "plt.title('Error rate vs samples')\n",
      "plt.show()"
     ],
     "language": "python",
     "metadata": {},
     "outputs": [
      {
       "metadata": {},
       "output_type": "display_data",
       "png": "[encoded data removed]",
       "text": [
        "<matplotlib.figure.Figure at 0x96401d0>"
       ]
      }
     ],
     "prompt_number": 138
    },
    {
     "cell_type": "heading",
     "level": 3,
     "metadata": {},
     "source": [
      "(d.iv) Kaggle for digits"
     ]
    },
    {
     "cell_type": "code",
     "collapsed": false,
     "input": [
      "# Load the kaggle data\n",
      "mat = scipy.io.loadmat('data/digit-dataset/kaggle.mat')\n",
      "kaggle = np.reshape(mat['kaggle_image'], (1, -1, 5000))[0].T\n",
      "\n",
      "# Run the classifier trained on all the training data\n",
      "classify = make_classifier(images, labels, False)\n",
      "result = [classify(test) for test in kaggle]\n",
      "\n",
      "# Write the results to a csv\n",
      "f = open('digits.csv', 'w')\n",
      "f.write('Id,Category\\n')\n",
      "for i in range(len(result)):\n",
      "    f.write(\"{0},{1}\\n\".format(i + 1, result[i]))\n",
      "f.close()"
     ],
     "language": "python",
     "metadata": {},
     "outputs": [],
     "prompt_number": 123
    },
    {
     "cell_type": "heading",
     "level": 3,
     "metadata": {},
     "source": [
      "(e) Kaggle for spam"
     ]
    },
    {
     "cell_type": "code",
     "collapsed": false,
     "input": [
      "# Load the data\n",
      "mat = scipy.io.loadmat('data/spam-dataset/spam_data.mat')\n",
      "emails = mat['training_data']\n",
      "labels = (mat['training_labels']).T\n",
      "kaggle = mat['test_data']\n",
      "\n",
      "# Run the classifier trained on all the training data\n",
      "classify = make_classifier(emails, labels, False)\n",
      "result = [classify(test) for test in kaggle]\n",
      "\n",
      "# Write the results to a csv\n",
      "f = open('spam.csv', 'w')\n",
      "f.write('Id,Category\\n')\n",
      "for i in range(len(result)):\n",
      "    f.write(\"{0},{1}\\n\".format(i + 1, result[i]))\n",
      "f.close()"
     ],
     "language": "python",
     "metadata": {},
     "outputs": [],
     "prompt_number": 119
    },
    {
     "cell_type": "code",
     "collapsed": false,
     "input": [],
     "language": "python",
     "metadata": {},
     "outputs": [],
     "prompt_number": 125
    }
   ],
   "metadata": {}
  }
 ]
}