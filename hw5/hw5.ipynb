{
 "metadata": {
  "name": "",
  "signature": "sha256:9fbe17b72286627a08d2e2c7337a27367d615edd00534216bb3c3efe91f6790d"
 },
 "nbformat": 3,
 "nbformat_minor": 0,
 "worksheets": [
  {
   "cells": [
    {
     "cell_type": "code",
     "collapsed": false,
     "input": [
      "import numpy as np\n",
      "import scipy.io\n",
      "import math\n",
      "\n",
      "# Load the data\n",
      "mat = scipy.io.loadmat('spam-dataset/spam_data.mat')\n",
      "training_data = mat['training_data']\n",
      "training_labels = mat['training_labels']\n",
      "test_data = mat['test_data']\n",
      "np.shape(training_data)\n",
      "# mat\n",
      "# xtrain, ytrain, xtest = mat['Xtrain'], mat['ytrain'], mat['Xtest']"
     ],
     "language": "python",
     "metadata": {},
     "outputs": [
      {
       "metadata": {},
       "output_type": "pyout",
       "prompt_number": 47,
       "text": [
        "(5172, 32)"
       ]
      }
     ],
     "prompt_number": 47
    },
    {
     "cell_type": "code",
     "collapsed": false,
     "input": [
      "class Node(object):\n",
      "    def __init__(self, split_rule, left, right):\n",
      "        self.split_rule = split_rule\n",
      "        self.left = left\n",
      "        self.right = right\n",
      "        \n",
      "    def __repr__(self, level=0):\n",
      "        ret = \"- \"*level + str(self.split_rule) + \"\\n\"\n",
      "        ret += self.left.__repr__(level + 1)\n",
      "        ret += self.right.__repr__(level + 1)\n",
      "        return ret\n",
      "    \n",
      "class LeafNode(object):\n",
      "    def __init__(self, label):\n",
      "        self.label = label\n",
      "    \n",
      "    def __repr__(self, level=0):\n",
      "        return \"- \"*level + str(self.label) + \"\\n\"\n",
      "        \n",
      "class DTree(object):\n",
      "    def __init__(self, depth, impurity, segmentor):\n",
      "        self.depth = depth\n",
      "        self.impurity = impurity\n",
      "        self.segmentor = segmentor\n",
      "    \n",
      "    def train(self, data, labels):\n",
      "        self.root = self.growTree(data, labels, self.depth)\n",
      "    \n",
      "    def growTree(self, data, labels, depth):\n",
      "#         print(labels)\n",
      "        if depth == 0:\n",
      "            return LeafNode(2) # TODO fix\n",
      "        \n",
      "        # Base case: if all labels are 0\n",
      "        if sum(labels) == 0:\n",
      "            return LeafNode(0)\n",
      "        \n",
      "        # Base case: if all labels are 1\n",
      "        if sum(labels) == len(labels):\n",
      "            return LeafNode(1)\n",
      "        \n",
      "        # Recursive case:\n",
      "        split, threshold = self.segmentor(data, labels, self.impurity)\n",
      "#         print(split, threshold)\n",
      "        lp = np.array([f <= threshold for f in data.T[split]])\n",
      "        rp = np.array([f > threshold for f in data.T[split]])\n",
      "        \n",
      "        left_node = self.growTree(data[lp], labels[lp], depth - 1)\n",
      "        right_node = self.growTree(data[rp], labels[rp], depth - 1)\n",
      "        return Node((split, threshold), left_node, right_node)\n",
      "#         left_data = [data[i] for i, f in enumerate(data.T[split]) if f <= threshold]\n",
      "#         left_labels = [label[i] for i, f in enumerate(data.T[split]) if f <= threshold]\n",
      "        \n",
      "\n",
      "        \n",
      "        \n",
      "    def predict(self, data, labels):\n",
      "        pass\n",
      "    \n",
      "d = DTree(7, entropy_impurity, median_segmentor)\n",
      "l = np.squeeze(np.asarray(training_labels))\n",
      "d.train(training_data[0:3000], l[0:3000])\n",
      "print(d.root)"
     ],
     "language": "python",
     "metadata": {},
     "outputs": [
      {
       "output_type": "stream",
       "stream": "stdout",
       "text": [
        "(19, 0.0)\n",
        "- (28, 0.0)\n",
        "- - (29, 0.0)\n",
        "- - - (31, 0.0)\n",
        "- - - - (16, 0.0)\n",
        "- - - - - (0, 0.0)\n",
        "- - - - - - (25, 0.0)\n",
        "- - - - - - - 2\n",
        "- - - - - - - 2\n",
        "- - - - - - 1\n",
        "- - - - - 0\n",
        "- - - - (6, 0.0)\n",
        "- - - - - (8, 0.0)\n",
        "- - - - - - (15, 0.0)\n",
        "- - - - - - - 2\n",
        "- - - - - - - 2\n",
        "- - - - - - 1\n",
        "- - - - - 1\n",
        "- - - (26, 0.0)\n",
        "- - - - (3, 0.0)\n",
        "- - - - - (15, 0.0)\n",
        "- - - - - - (0, 0.0)\n",
        "- - - - - - - 2\n",
        "- - - - - - - 2\n",
        "- - - - - - (31, 0.0)\n",
        "- - - - - - - 2\n",
        "- - - - - - - 2\n",
        "- - - - - 1\n",
        "- - - - (31, 0.0)\n",
        "- - - - - (16, 0.0)\n",
        "- - - - - - (1, 0.0)\n",
        "- - - - - - - 2\n",
        "- - - - - - - 2\n",
        "- - - - - - 0\n",
        "- - - - - (24, 1.0)\n",
        "- - - - - - (14, 0.0)\n",
        "- - - - - - - 2\n",
        "- - - - - - - 2\n",
        "- - - - - - (3, 0.0)\n",
        "- - - - - - - 2\n",
        "- - - - - - - 2\n",
        "- - (31, 0.0)\n",
        "- - - (3, 0.0)\n",
        "- - - - (26, 0.0)\n",
        "- - - - - (29, 0.0)\n",
        "- - - - - - (6, 0.0)\n",
        "- - - - - - - 2\n",
        "- - - - - - - 2\n",
        "- - - - - - (4, 0.0)\n",
        "- - - - - - - 2\n",
        "- - - - - - - 2\n",
        "- - - - - (13, 0.0)\n",
        "- - - - - - (5, 0.0)\n",
        "- - - - - - - 2\n",
        "- - - - - - - 2\n",
        "- - - - - - (9, 0.0)\n",
        "- - - - - - - 2\n",
        "- - - - - - - 2\n",
        "- - - - (26, 0.0)\n",
        "- - - - - 1\n",
        "- - - - - (28, 3.0)\n",
        "- - - - - - 1\n",
        "- - - - - - (14, 0.0)\n",
        "- - - - - - - 2\n",
        "- - - - - - - 2\n",
        "- - - (12, 0.0)\n",
        "- - - - (3, 0.0)\n",
        "- - - - - (1, 0.0)\n",
        "- - - - - - (16, 0.0)\n",
        "- - - - - - - 2\n",
        "- - - - - - - 2\n",
        "- - - - - - 0\n",
        "- - - - - 1\n",
        "- - - - 0\n",
        "- 0\n",
        "\n"
       ]
      }
     ],
     "prompt_number": 110
    },
    {
     "cell_type": "code",
     "collapsed": false,
     "input": [
      "def entropy(left, right):\n",
      "    if left == 0 or right == 0: return 0\n",
      "    p_left, p_right = left / (left + right), right / (left + right)\n",
      "    # TODO MAYBE LOG BASE 2 i.e. math.log(x, 2)\n",
      "    return -p_left * np.log(p_left) + -p_right * np.log(p_right)\n",
      "\n",
      "def entropy_impurity(left_hist, right_hist):\n",
      "    result = sum(left_hist) * entropy(*left_hist) + sum(right_hist) * entropy(*right_hist)\n",
      "    return result / (sum(left_hist) + sum(right_hist))\n",
      "    \n",
      "def median_segmentor(data, labels, impurity):\n",
      "    labels = np.squeeze(np.asarray(labels))\n",
      "    def impurity_func(split_rule):\n",
      "        feature = data.T[split_rule[0]]\n",
      "        threshold = split_rule[1]\n",
      "\n",
      "        a = sum(labels[i] for i, f in enumerate(feature) if f > threshold)\n",
      "        b = sum(1 for f in feature if f > threshold) - a\n",
      "        c = sum(labels[i] for i, f in enumerate(feature) if f <= threshold)\n",
      "        d = sum(1 for f in feature if f <= threshold) - c\n",
      "        \n",
      "#         print(a, b, c, d)\n",
      "        return impurity((a, b), (c, d))\n",
      "    \n",
      "    split_rules = [(i, np.median(feature)) for i, feature in enumerate(data.T)]\n",
      "    \n",
      "    return min(split_rules, key=impurity_func)\n",
      "\n",
      "median_segmentor(training_data, training_labels, entropy_impurity)\n",
      "# entropy_impurity((13, 4), (12, 1))"
     ],
     "language": "python",
     "metadata": {},
     "outputs": [
      {
       "metadata": {},
       "output_type": "pyout",
       "prompt_number": 84,
       "text": [
        "(28, 0.0)"
       ]
      }
     ],
     "prompt_number": 84
    },
    {
     "cell_type": "code",
     "collapsed": false,
     "input": [
      "m = np.matrix([[1, 2],[3, 4],[5, 6]])\n",
      "bools = np.array([True, False, True])\n",
      "m[bools]\n",
      "\n",
      "m = np.matrix([1, 2, 3, 4])\n",
      "m[np.array([True, True, False, False])]"
     ],
     "language": "python",
     "metadata": {},
     "outputs": [
      {
       "ename": "IndexError",
       "evalue": "index 1 is out of bounds for axis 0 with size 1",
       "output_type": "pyerr",
       "traceback": [
        "\u001b[1;31m---------------------------------------------------------------------------\u001b[0m\n\u001b[1;31mIndexError\u001b[0m                                Traceback (most recent call last)",
        "\u001b[1;32m<ipython-input-45-8f729ce3e0d1>\u001b[0m in \u001b[0;36m<module>\u001b[1;34m()\u001b[0m\n\u001b[0;32m      4\u001b[0m \u001b[1;33m\u001b[0m\u001b[0m\n\u001b[0;32m      5\u001b[0m \u001b[0mm\u001b[0m \u001b[1;33m=\u001b[0m \u001b[0mnp\u001b[0m\u001b[1;33m.\u001b[0m\u001b[0mmatrix\u001b[0m\u001b[1;33m(\u001b[0m\u001b[1;33m[\u001b[0m\u001b[1;36m1\u001b[0m\u001b[1;33m,\u001b[0m \u001b[1;36m2\u001b[0m\u001b[1;33m,\u001b[0m \u001b[1;36m3\u001b[0m\u001b[1;33m,\u001b[0m \u001b[1;36m4\u001b[0m\u001b[1;33m]\u001b[0m\u001b[1;33m)\u001b[0m\u001b[1;33m\u001b[0m\u001b[0m\n\u001b[1;32m----> 6\u001b[1;33m \u001b[0mm\u001b[0m\u001b[1;33m[\u001b[0m\u001b[0mnp\u001b[0m\u001b[1;33m.\u001b[0m\u001b[0marray\u001b[0m\u001b[1;33m(\u001b[0m\u001b[1;33m[\u001b[0m\u001b[1;32mTrue\u001b[0m\u001b[1;33m,\u001b[0m \u001b[1;32mTrue\u001b[0m\u001b[1;33m,\u001b[0m \u001b[1;32mFalse\u001b[0m\u001b[1;33m,\u001b[0m \u001b[1;32mFalse\u001b[0m\u001b[1;33m]\u001b[0m\u001b[1;33m)\u001b[0m\u001b[1;33m]\u001b[0m\u001b[1;33m\u001b[0m\u001b[0m\n\u001b[0m",
        "\u001b[1;32mC:\\Anaconda3\\lib\\site-packages\\numpy\\matrixlib\\defmatrix.py\u001b[0m in \u001b[0;36m__getitem__\u001b[1;34m(self, index)\u001b[0m\n\u001b[0;32m    314\u001b[0m \u001b[1;33m\u001b[0m\u001b[0m\n\u001b[0;32m    315\u001b[0m         \u001b[1;32mtry\u001b[0m\u001b[1;33m:\u001b[0m\u001b[1;33m\u001b[0m\u001b[0m\n\u001b[1;32m--> 316\u001b[1;33m             \u001b[0mout\u001b[0m \u001b[1;33m=\u001b[0m \u001b[0mN\u001b[0m\u001b[1;33m.\u001b[0m\u001b[0mndarray\u001b[0m\u001b[1;33m.\u001b[0m\u001b[0m__getitem__\u001b[0m\u001b[1;33m(\u001b[0m\u001b[0mself\u001b[0m\u001b[1;33m,\u001b[0m \u001b[0mindex\u001b[0m\u001b[1;33m)\u001b[0m\u001b[1;33m\u001b[0m\u001b[0m\n\u001b[0m\u001b[0;32m    317\u001b[0m         \u001b[1;32mfinally\u001b[0m\u001b[1;33m:\u001b[0m\u001b[1;33m\u001b[0m\u001b[0m\n\u001b[0;32m    318\u001b[0m             \u001b[0mself\u001b[0m\u001b[1;33m.\u001b[0m\u001b[0m_getitem\u001b[0m \u001b[1;33m=\u001b[0m \u001b[1;32mFalse\u001b[0m\u001b[1;33m\u001b[0m\u001b[0m\n",
        "\u001b[1;31mIndexError\u001b[0m: index 1 is out of bounds for axis 0 with size 1"
       ]
      }
     ],
     "prompt_number": 45
    },
    {
     "cell_type": "code",
     "collapsed": false,
     "input": [
      "a = [1, 1, 0, 3, 4]\n",
      "b = [True, False, True, True, False]\n",
      "a[b]"
     ],
     "language": "python",
     "metadata": {},
     "outputs": [
      {
       "ename": "TypeError",
       "evalue": "list indices must be integers, not list",
       "output_type": "pyerr",
       "traceback": [
        "\u001b[1;31m---------------------------------------------------------------------------\u001b[0m\n\u001b[1;31mTypeError\u001b[0m                                 Traceback (most recent call last)",
        "\u001b[1;32m<ipython-input-92-d46255eda910>\u001b[0m in \u001b[0;36m<module>\u001b[1;34m()\u001b[0m\n\u001b[0;32m      1\u001b[0m \u001b[0ma\u001b[0m \u001b[1;33m=\u001b[0m \u001b[1;33m[\u001b[0m\u001b[1;36m1\u001b[0m\u001b[1;33m,\u001b[0m \u001b[1;36m1\u001b[0m\u001b[1;33m,\u001b[0m \u001b[1;36m0\u001b[0m\u001b[1;33m,\u001b[0m \u001b[1;36m3\u001b[0m\u001b[1;33m,\u001b[0m \u001b[1;36m4\u001b[0m\u001b[1;33m]\u001b[0m\u001b[1;33m\u001b[0m\u001b[0m\n\u001b[0;32m      2\u001b[0m \u001b[0mb\u001b[0m \u001b[1;33m=\u001b[0m \u001b[1;33m[\u001b[0m\u001b[1;32mTrue\u001b[0m\u001b[1;33m,\u001b[0m \u001b[1;32mFalse\u001b[0m\u001b[1;33m,\u001b[0m \u001b[1;32mTrue\u001b[0m\u001b[1;33m,\u001b[0m \u001b[1;32mTrue\u001b[0m\u001b[1;33m,\u001b[0m \u001b[1;32mFalse\u001b[0m\u001b[1;33m]\u001b[0m\u001b[1;33m\u001b[0m\u001b[0m\n\u001b[1;32m----> 3\u001b[1;33m \u001b[0ma\u001b[0m\u001b[1;33m[\u001b[0m\u001b[0mb\u001b[0m\u001b[1;33m]\u001b[0m\u001b[1;33m\u001b[0m\u001b[0m\n\u001b[0m",
        "\u001b[1;31mTypeError\u001b[0m: list indices must be integers, not list"
       ]
      }
     ],
     "prompt_number": 92
    }
   ],
   "metadata": {}
  }
 ]
}