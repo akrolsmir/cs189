{
 "metadata": {
  "name": "",
  "signature": "sha256:09adee2b7507f3206d48f2c5c09f9ad29f785800c84a4d7e4e309b6000cbbd1f"
 },
 "nbformat": 3,
 "nbformat_minor": 0,
 "worksheets": [
  {
   "cells": [
    {
     "cell_type": "code",
     "collapsed": false,
     "input": [
      "import numpy as np\n",
      "import scipy.io\n",
      "import math\n",
      "import random\n",
      "\n",
      "# Load the data\n",
      "mat = scipy.io.loadmat('spam-dataset/spam_data.mat')\n",
      "training_data = mat['training_data']\n",
      "training_labels = mat['training_labels']\n",
      "training_labels = np.squeeze(np.asarray(training_labels))\n",
      "test_data = mat['test_data']\n",
      "\n",
      "np.mean(training_labels)"
     ],
     "language": "python",
     "metadata": {},
     "outputs": [
      {
       "metadata": {},
       "output_type": "pyout",
       "prompt_number": 27,
       "text": [
        "0.29002320185614849"
       ]
      }
     ],
     "prompt_number": 27
    },
    {
     "cell_type": "code",
     "collapsed": false,
     "input": [
      "class Node(object):\n",
      "    def __init__(self, split_rule, left, right):\n",
      "        self.split_rule = split_rule\n",
      "        self.left = left\n",
      "        self.right = right\n",
      "        \n",
      "    def __repr__(self, level=0):\n",
      "        ret = \"- \"*level + str(self.split_rule) + \"\\n\"\n",
      "        ret += self.left.__repr__(level + 1)\n",
      "        ret += self.right.__repr__(level + 1)\n",
      "        return ret\n",
      "    \n",
      "class LeafNode(object):\n",
      "    def __init__(self, label):\n",
      "        self.label = label\n",
      "    \n",
      "    def __repr__(self, level=0):\n",
      "        return \"- \"*level + str(self.label) + \"\\n\"\n",
      "        \n",
      "class DTree(object):\n",
      "    def __init__(self, depth, impurity, segmentor):\n",
      "        self.depth = depth\n",
      "        self.impurity = impurity\n",
      "        self.segmentor = segmentor\n",
      "    \n",
      "    def train(self, data, labels):\n",
      "        self.root = self.growTree(data, labels, self.depth)\n",
      "    \n",
      "    def growTree(self, data, labels, depth):\n",
      "        if depth == 0:\n",
      "            return LeafNode(1 if sum(labels) > len(labels) / 2 else 0)\n",
      "        \n",
      "        # Base case: if all labels are 0\n",
      "        if sum(labels) == 0:\n",
      "            return LeafNode(0)\n",
      "        \n",
      "        # Base case: if all labels are 1\n",
      "        if sum(labels) == len(labels):\n",
      "            return LeafNode(1)\n",
      "        \n",
      "        # Recursive case:\n",
      "        split, threshold = self.segmentor(data, labels, self.impurity)\n",
      "        lp = np.array([f <= threshold for f in data.T[split]])\n",
      "        rp = np.array([f > threshold for f in data.T[split]])\n",
      "#         print(split, sum(lp), sum(rp))\n",
      "        \n",
      "        left_node = self.growTree(data[lp], labels[lp], depth - 1)\n",
      "        right_node = self.growTree(data[rp], labels[rp], depth - 1)\n",
      "        return Node((split, threshold), left_node, right_node)\n",
      "        \n",
      "    def predict(self, data):\n",
      "        # Traverse through the D-Tree for this data point\n",
      "        def traverse(datum):\n",
      "            node = self.root\n",
      "            while type(node) is not LeafNode:\n",
      "                split, threshold = node.split_rule\n",
      "                node = node.left if datum[split] <= threshold else node.right\n",
      "            return node.label\n",
      "            \n",
      "        result= [traverse(datum) for datum in data]\n",
      "        return result\n",
      "    \n",
      "    # Returns the proportion of data correctly labelled by predict\n",
      "    def score(self, data, labels):\n",
      "        predictions = self.predict(data)\n",
      "        return sum(d == l for d, l in zip(predictions, labels)) / len(labels)\n",
      "\n",
      "def permute_both(a, b):\n",
      "    p = np.random.permutation(len(a))\n",
      "    return a[p], b[p]"
     ],
     "language": "python",
     "metadata": {},
     "outputs": [],
     "prompt_number": 11
    },
    {
     "cell_type": "code",
     "collapsed": false,
     "input": [
      "def entropy(left, right):\n",
      "    if left == 0 or right == 0: return 0\n",
      "    p_left, p_right = left / (left + right), right / (left + right)\n",
      "    return -p_left * np.log(p_left) + -p_right * np.log(p_right)\n",
      "\n",
      "def entropy_impurity(left_hist, right_hist):\n",
      "    result = sum(left_hist) * entropy(*left_hist) + sum(right_hist) * entropy(*right_hist)\n",
      "    return result / (sum(left_hist) + sum(right_hist))\n",
      "\n",
      "def impurity_func(data, labels, impurity):\n",
      "    def result(split_rule):\n",
      "        feature = data.T[split_rule[0]]\n",
      "        threshold = split_rule[1]\n",
      "\n",
      "        a, b, c, d = 0, 0, 0, 0\n",
      "        for label, f in zip(labels, feature):\n",
      "            if f <= threshold:\n",
      "                if label == 1:\n",
      "                    c += 1\n",
      "                else:\n",
      "                    d += 1\n",
      "            else:\n",
      "                if label == 1:\n",
      "                    a += 1\n",
      "                else:\n",
      "                    b += 1\n",
      "        \n",
      "        return impurity((a, b), (c, d))\n",
      "    return result\n",
      "\n",
      "def median_segmentor(data, labels, impurity):\n",
      "#     split_rules = [(i, np.median(feature)) for i, feature in enumerate(data.T)]\n",
      "    split_rules = [(i, np.mean(feature)) for i, feature in enumerate(data.T)]\n",
      "    \n",
      "    return min(split_rules, key=impurity_func(data, labels, impurity))\n",
      "\n",
      "from random import randint\n",
      "def random_segmentor(data, labels, impurity):\n",
      "    i = randint(0, len(data.T)-1)\n",
      "#     print(np.mean(np.mean(data, 1)))\n",
      "    return (i, np.mean(np.mean(data, 1)))\n",
      "\n",
      "def forest_segmentor(data, labels, impurity):\n",
      "    split_rules = [(i, np.mean(np.mean(data, 1))) for i, feature in enumerate(data.T)]\n",
      "    split_rules = random.sample(split_rules, 6)\n",
      "    \n",
      "    return min(split_rules, key=impurity_func(data, labels, impurity))"
     ],
     "language": "python",
     "metadata": {},
     "outputs": [],
     "prompt_number": 14
    },
    {
     "cell_type": "code",
     "collapsed": false,
     "input": [
      "# Random forests\n",
      "\n",
      "class RForest(object):\n",
      "    def __init__(self, depth, impurity, segmentor, num):\n",
      "        self.trees = [DTree(depth, impurity, segmentor) for _ in range(num)]\n",
      "        \n",
      "    def train(self, dataX, labelsX):\n",
      "        for tree in self.trees:\n",
      "            # Bagging\n",
      "            r = np.random.choice(len(dataX), int(len(dataX) * 2 / 3))\n",
      "            data, labels = dataX[r], labelsX[r]\n",
      "            print(len(data))\n",
      "            tree.train(data, labels)\n",
      "        \n",
      "    def predict(self, data):\n",
      "        a = np.matrix([tree.predict(data) for tree in self.trees])\n",
      "#         return [votes[0] for votes in a.T]\n",
      "#         print(\"HI\", np.sum(a.T[0]))\n",
      "        i = np.random.choice(len(a.T))\n",
      "        print(\"HI\", i, a.T[i])\n",
      "        return [1 if np.sum(votes) > (len(votes) / 2) else 0 for votes in a.T]\n",
      "        \n",
      "    # Returns the proportion of data correctly labelled by predict\n",
      "    def score(self, data, labels):\n",
      "        predictions = self.predict(data)\n",
      "        print(\"::\", sum(predictions) / len(predictions))\n",
      "        return sum(d == l for d, l in zip(predictions, labels)) / len(labels)"
     ],
     "language": "python",
     "metadata": {},
     "outputs": [],
     "prompt_number": 5
    },
    {
     "cell_type": "code",
     "collapsed": false,
     "input": [
      "def cross_validate():\n",
      "    l = np.squeeze(np.asarray(training_labels))\n",
      "    d, l = permute_both(training_data, training_labels)\n",
      "\n",
      "    # Cross validation to test how good this D-Tree is\n",
      "    folds = 12\n",
      "    interval = 431\n",
      "\n",
      "    total = 0\n",
      "    # cross validation\n",
      "    for k in range(folds):\n",
      "        kemails, klabels = [], []\n",
      "#         tree = RForest(15, entropy_impurity, forest_segmentor, 5)\n",
      "        tree = DTree(15, entropy_impurity, median_segmentor)\n",
      "#         print(tree.root)\n",
      "        for i in range(folds):\n",
      "            if i != k:\n",
      "                start, end = i * interval, (i + 1) * interval\n",
      "                kemails.append(d[start:end])\n",
      "                klabels.append(l[start:end])\n",
      "        tree.train(np.concatenate(kemails), np.concatenate(klabels))\n",
      "\n",
      "        start, end = k * interval, (k + 1) * interval\n",
      "        total += tree.score(d[start:end], l[start:end])\n",
      "        print(total / (k + 1))\n",
      "\n",
      "    print(total / folds)\n",
      "\n",
      "cross_validate()"
     ],
     "language": "python",
     "metadata": {},
     "outputs": [
      {
       "output_type": "stream",
       "stream": "stdout",
       "text": [
        "0.830626450116\n",
        "0.821345707657"
       ]
      },
      {
       "output_type": "stream",
       "stream": "stdout",
       "text": [
        "\n",
        "0.829853054911"
       ]
      },
      {
       "output_type": "stream",
       "stream": "stdout",
       "text": [
        "\n",
        "0.827726218097"
       ]
      },
      {
       "output_type": "stream",
       "stream": "stdout",
       "text": [
        "\n",
        "0.829234338747"
       ]
      },
      {
       "output_type": "stream",
       "stream": "stdout",
       "text": [
        "\n",
        "0.823665893271"
       ]
      },
      {
       "output_type": "stream",
       "stream": "stdout",
       "text": [
        "\n",
        "0.825654623798"
       ]
      },
      {
       "output_type": "stream",
       "stream": "stdout",
       "text": [
        "\n",
        "0.825406032483"
       ]
      },
      {
       "output_type": "stream",
       "stream": "stdout",
       "text": [
        "\n",
        "0.82495488528"
       ]
      },
      {
       "output_type": "stream",
       "stream": "stdout",
       "text": [
        "\n",
        "0.825522041763"
       ]
      },
      {
       "output_type": "stream",
       "stream": "stdout",
       "text": [
        "\n",
        "0.826829782746"
       ]
      },
      {
       "output_type": "stream",
       "stream": "stdout",
       "text": [
        "\n",
        "0.828306264501"
       ]
      },
      {
       "output_type": "stream",
       "stream": "stdout",
       "text": [
        "\n",
        "0.828306264501\n"
       ]
      }
     ],
     "prompt_number": 15
    },
    {
     "cell_type": "code",
     "collapsed": false,
     "input": [
      "# Train the DTree on all the training data\n",
      "d, l = permute_both(training_data, training_labels)\n",
      "tree = DTree(5, entropy_impurity, median_segmentor)\n",
      "tree.train(d, l)\n",
      "print(tree.root)\n",
      "\n",
      "# Predict the labels for the test data\n",
      "result = tree.predict(test_data)\n",
      "\n",
      "# Write the results to a csv\n",
      "f = open('spam3.csv', 'w')\n",
      "f.write('Id,Category\\n')\n",
      "for i in range(len(result)):\n",
      "    f.write(\"{0},{1}\\n\".format(i + 1, result[i]))\n",
      "f.close()"
     ],
     "language": "python",
     "metadata": {},
     "outputs": [
      {
       "output_type": "stream",
       "stream": "stdout",
       "text": [
        "(28, 0.7032095901005414)\n",
        "- (19, 0.53306101608373757)\n",
        "- - (29, 0.85970888820068136)\n",
        "- - - (16, 0.090291262135922326)\n",
        "- - - - (31, 0.17864476386036962)\n",
        "- - - - - 0\n",
        "- - - - - 0\n",
        "- - - - 0\n",
        "- - - (26, 0.6227544910179641)\n",
        "- - - - (3, 0.024509803921568627)\n",
        "- - - - - 0\n",
        "- - - - - 1\n",
        "- - - - (1, 0.15436241610738255)\n",
        "- - - - - 0\n",
        "- - - - - 1\n",
        "- - 0\n",
        "- (19, 0.29561752988047807)\n",
        "- - (31, 0.33504273504273502)\n",
        "- - - (3, 0.18312559923298177)\n",
        "- - - - (26, 1.0143487858719646)\n",
        "- - - - - 1\n",
        "- - - - - 1\n",
        "- - - - (28, 3.9343065693430659)\n",
        "- - - - - 1\n",
        "- - - - - 1\n",
        "- - - (7, 0.03937007874015748)\n",
        "- - - - (12, 0.48360655737704916)\n",
        "- - - - - 0\n",
        "- - - - - 0\n",
        "- - - - 1\n",
        "- - 0\n",
        "\n"
       ]
      }
     ],
     "prompt_number": 17
    },
    {
     "cell_type": "code",
     "collapsed": false,
     "input": [
      "matt = np.matrix([[0, 1, 4],[4, 3, 3],[1, 2, 1]])\n",
      "matt[[2, 0, 1]]\n",
      "\n",
      "matt.T[[1, 2]].T\n",
      "# np.random.permutation()\n",
      "np.random.choice(10, 4, replace=False)\n",
      "\n",
      "# a = [1, 3, 4, 5, 6]\n",
      "# a[[1, 4]]\n",
      "\n",
      "entropy_impurity((10, 100), (20, 2))"
     ],
     "language": "python",
     "metadata": {},
     "outputs": [
      {
       "metadata": {},
       "output_type": "pyout",
       "prompt_number": 7,
       "text": [
        "0.30463609734923813"
       ]
      }
     ],
     "prompt_number": 7
    },
    {
     "cell_type": "code",
     "collapsed": false,
     "input": [],
     "language": "python",
     "metadata": {},
     "outputs": []
    }
   ],
   "metadata": {}
  }
 ]
}