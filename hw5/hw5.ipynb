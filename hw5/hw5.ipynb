{
 "metadata": {
  "name": "",
  "signature": "sha256:79a5e7edaed3b30207b9ff0eb1a3dbf481db6f6e8ac482db4ee01e2885e505b6"
 },
 "nbformat": 3,
 "nbformat_minor": 0,
 "worksheets": [
  {
   "cells": [
    {
     "cell_type": "code",
     "collapsed": false,
     "input": [
      "import numpy as np\n",
      "import scipy.io\n",
      "import math\n",
      "\n",
      "# Load the data\n",
      "mat = scipy.io.loadmat('spam-dataset/spam_data.mat')\n",
      "training_data = mat['training_data']\n",
      "training_labels = mat['training_labels']\n",
      "training_labels = np.squeeze(np.asarray(training_labels))\n",
      "test_data = mat['test_data']\n",
      "np.shape(training_data)\n",
      "# mat\n",
      "# xtrain, ytrain, xtest = mat['Xtrain'], mat['ytrain'], mat['Xtest']"
     ],
     "language": "python",
     "metadata": {},
     "outputs": [
      {
       "metadata": {},
       "output_type": "pyout",
       "prompt_number": 144,
       "text": [
        "(5172, 32)"
       ]
      }
     ],
     "prompt_number": 144
    },
    {
     "cell_type": "code",
     "collapsed": false,
     "input": [
      "class Node(object):\n",
      "    def __init__(self, split_rule, left, right):\n",
      "        self.split_rule = split_rule\n",
      "        self.left = left\n",
      "        self.right = right\n",
      "        \n",
      "    def __repr__(self, level=0):\n",
      "        ret = \"- \"*level + str(self.split_rule) + \"\\n\"\n",
      "        ret += self.left.__repr__(level + 1)\n",
      "        ret += self.right.__repr__(level + 1)\n",
      "        return ret\n",
      "    \n",
      "class LeafNode(object):\n",
      "    def __init__(self, label):\n",
      "        self.label = label\n",
      "    \n",
      "    def __repr__(self, level=0):\n",
      "        return \"- \"*level + str(self.label) + \"\\n\"\n",
      "        \n",
      "class DTree(object):\n",
      "    def __init__(self, depth, impurity, segmentor):\n",
      "        self.depth = depth\n",
      "        self.impurity = impurity\n",
      "        self.segmentor = segmentor\n",
      "    \n",
      "    def train(self, data, labels):\n",
      "        self.root = self.growTree(data, labels, self.depth)\n",
      "    \n",
      "    def growTree(self, data, labels, depth):\n",
      "        if depth == 0:\n",
      "            return LeafNode(1 if sum(labels) > len(labels) / 2 else 0)\n",
      "        \n",
      "        # Base case: if all labels are 0\n",
      "        if sum(labels) == 0:\n",
      "            return LeafNode(0)\n",
      "        \n",
      "        # Base case: if all labels are 1\n",
      "        if sum(labels) == len(labels):\n",
      "            return LeafNode(1)\n",
      "        \n",
      "        # Recursive case:\n",
      "        split, threshold = self.segmentor(data, labels, self.impurity)\n",
      "        lp = np.array([f <= threshold for f in data.T[split]])\n",
      "        rp = np.array([f > threshold for f in data.T[split]])\n",
      "        \n",
      "        left_node = self.growTree(data[lp], labels[lp], depth - 1)\n",
      "        right_node = self.growTree(data[rp], labels[rp], depth - 1)\n",
      "        return Node((split, threshold), left_node, right_node)\n",
      "        \n",
      "    def predict(self, data):\n",
      "        # Traverse through the D-Tree for this data point\n",
      "        def traverse(datum):\n",
      "            node = self.root\n",
      "            while type(node) is not LeafNode:\n",
      "                split, threshold = node.split_rule\n",
      "                node = node.left if datum[split] <= threshold else node.right\n",
      "            return node.label\n",
      "            \n",
      "        result= [traverse(datum) for datum in data]\n",
      "        return result\n",
      "    \n",
      "    # Returns the proportion of data correctly labelled by predict\n",
      "    def score(self, data, labels):\n",
      "        predictions = self.predict(data)\n",
      "        return sum(d == l for d, l in zip(predictions, labels)) / len(labels)\n",
      "\n",
      "def permute_both(a, b):\n",
      "    p = np.random.permutation(len(a))\n",
      "    return a[p], b[p]\n",
      "    \n",
      "# tree = DTree(7, entropy_impurity, median_segmentor)\n",
      "# l = np.squeeze(np.asarray(training_labels))\n",
      "# d, l = permute_both(training_data, l)\n",
      "# tree.train(d[0:3000], l[0:3000])\n",
      "\n",
      "\n",
      "# print(tree.predict(d[3000:3010]))\n",
      "# print(l[3000:3010])\n",
      "# print(tree.score(d[3000:3010], l[3000:3010]))"
     ],
     "language": "python",
     "metadata": {},
     "outputs": [],
     "prompt_number": 173
    },
    {
     "cell_type": "code",
     "collapsed": false,
     "input": [
      "def xv():\n",
      "    l = np.squeeze(np.asarray(training_labels))\n",
      "    d, l = permute_both(training_data, training_labels)\n",
      "\n",
      "    # Cross validation to test how good this D-Tree is\n",
      "    folds = 12\n",
      "    interval = 431\n",
      "\n",
      "    total = 0\n",
      "    # cross validation\n",
      "    for k in range(folds):\n",
      "        kemails, klabels = [], []\n",
      "        tree = DTree(15, entropy_impurity, median_segmentor)\n",
      "        for i in range(folds):\n",
      "            if i != k:\n",
      "                start, end = i * interval, (i + 1) * interval\n",
      "                kemails.append(d[start:end])\n",
      "                klabels.append(l[start:end])\n",
      "        tree.train(np.concatenate(kemails), np.concatenate(klabels))\n",
      "\n",
      "        start, end = k * interval, (k + 1) * interval\n",
      "        total += tree.score(d[start:end], l[start:end])\n",
      "        print(total / (k + 1))\n",
      "\n",
      "    print(total / folds)\n",
      "\n",
      "%prun xv()"
     ],
     "language": "python",
     "metadata": {},
     "outputs": [
      {
       "output_type": "stream",
       "stream": "stdout",
       "text": [
        "0.830626450116\n",
        "0.841067285383"
       ]
      },
      {
       "output_type": "stream",
       "stream": "stdout",
       "text": [
        "\n",
        "0.843000773395"
       ]
      },
      {
       "output_type": "stream",
       "stream": "stdout",
       "text": [
        "\n",
        "0.836426914153"
       ]
      },
      {
       "output_type": "stream",
       "stream": "stdout",
       "text": [
        "\n",
        "0.831090487239"
       ]
      },
      {
       "output_type": "stream",
       "stream": "stdout",
       "text": [
        "\n",
        "0.831013147718"
       ]
      },
      {
       "output_type": "stream",
       "stream": "stdout",
       "text": [
        "\n",
        "0.82996353994"
       ]
      },
      {
       "output_type": "stream",
       "stream": "stdout",
       "text": [
        "\n",
        "0.832656612529"
       ]
      },
      {
       "output_type": "stream",
       "stream": "stdout",
       "text": [
        "\n",
        "0.833720030936"
       ]
      },
      {
       "output_type": "stream",
       "stream": "stdout",
       "text": [
        "\n",
        "0.830394431555"
       ]
      },
      {
       "output_type": "stream",
       "stream": "stdout",
       "text": [
        "\n",
        "0.829149968361"
       ]
      },
      {
       "output_type": "stream",
       "stream": "stdout",
       "text": [
        "\n",
        "0.828692962104"
       ]
      },
      {
       "output_type": "stream",
       "stream": "stdout",
       "text": [
        "\n",
        "0.828692962104\n",
        " "
       ]
      }
     ],
     "prompt_number": 218
    },
    {
     "cell_type": "code",
     "collapsed": false,
     "input": [
      "def entropy(left, right):\n",
      "    if left == 0 or right == 0: return 0\n",
      "    p_left, p_right = left / (left + right), right / (left + right)\n",
      "    # TODO MAYBE LOG BASE 2 i.e. math.log(x, 2)\n",
      "    return -p_left * np.log(p_left) + -p_right * np.log(p_right)\n",
      "\n",
      "def entropy_impurity(left_hist, right_hist):\n",
      "    result = sum(left_hist) * entropy(*left_hist) + sum(right_hist) * entropy(*right_hist)\n",
      "    return result / (sum(left_hist) + sum(right_hist))\n",
      "    \n",
      "def median_segmentor(data, labels, impurity):\n",
      "    def impurity_func(split_rule):\n",
      "        feature = data.T[split_rule[0]]\n",
      "        threshold = split_rule[1]\n",
      "\n",
      "#         right = [labels[i] for i, f in enumerate(feature) if f > threshold]\n",
      "#         a = sum(right)\n",
      "#         b = len(right) - a\n",
      "        \n",
      "#         left = [labels[i] for i, f in enumerate(feature) if f <= threshold]\n",
      "#         c = sum(left)\n",
      "#         d = len(left) - c\n",
      "\n",
      "        a, b, c, d = 0, 0, 0, 0\n",
      "        for label, f in zip(labels, feature):\n",
      "            if f <= threshold:\n",
      "                if label == 1:\n",
      "                    c += 1\n",
      "                else:\n",
      "                    d += 1\n",
      "            else:\n",
      "                if label == 1:\n",
      "                    a += 1\n",
      "                else:\n",
      "                    b += 1\n",
      "        \n",
      "        return impurity((a, b), (c, d))\n",
      "    \n",
      "    split_rules = [(i, np.mean(np.mean(data, 1))) for i, feature in enumerate(data.T)]\n",
      "    \n",
      "    return min(split_rules, key=impurity_func)\n",
      "\n",
      "# median_segmentor(training_data, training_labels, entropy_impurity)\n",
      "# entropy_impurity((13, 4), (12, 1))"
     ],
     "language": "python",
     "metadata": {},
     "outputs": [],
     "prompt_number": 217
    },
    {
     "cell_type": "code",
     "collapsed": false,
     "input": [
      "# Train the DTree on all the training data\n",
      "d, l = permute_both(training_data, training_labels)\n",
      "tree = DTree(15, entropy_impurity, median_segmentor)\n",
      "tree.train(d, l)\n",
      "\n",
      "# Predict the labels for the test data\n",
      "result = tree.predict(test_data)\n",
      "\n",
      "# Write the results to a csv\n",
      "f = open('spam.csv', 'w')\n",
      "f.write('Id,Category\\n')\n",
      "for i in range(len(result)):\n",
      "    f.write(\"{0},{1}\\n\".format(i + 1, result[i]))\n",
      "f.close()"
     ],
     "language": "python",
     "metadata": {},
     "outputs": [],
     "prompt_number": 221
    },
    {
     "cell_type": "code",
     "collapsed": false,
     "input": [
      "m = np.matrix([[1, 2],[3, 4],[5, 6]])\n",
      "bools = np.array([True, False, True])\n",
      "m[bools]\n"
     ],
     "language": "python",
     "metadata": {},
     "outputs": [
      {
       "output_type": "stream",
       "stream": "stdout",
       "text": [
        " "
       ]
      },
      {
       "metadata": {},
       "output_type": "pyout",
       "prompt_number": 170,
       "text": [
        "matrix([[1, 2],\n",
        "        [5, 6]])"
       ]
      }
     ],
     "prompt_number": 170
    },
    {
     "cell_type": "code",
     "collapsed": false,
     "input": [
      "a = [1, 1, 0, 3, 4]\n",
      "b = [True, False, True, True, False]\n",
      "a[b]"
     ],
     "language": "python",
     "metadata": {},
     "outputs": [
      {
       "ename": "TypeError",
       "evalue": "list indices must be integers, not list",
       "output_type": "pyerr",
       "traceback": [
        "\u001b[1;31m---------------------------------------------------------------------------\u001b[0m\n\u001b[1;31mTypeError\u001b[0m                                 Traceback (most recent call last)",
        "\u001b[1;32m<ipython-input-92-d46255eda910>\u001b[0m in \u001b[0;36m<module>\u001b[1;34m()\u001b[0m\n\u001b[0;32m      1\u001b[0m \u001b[0ma\u001b[0m \u001b[1;33m=\u001b[0m \u001b[1;33m[\u001b[0m\u001b[1;36m1\u001b[0m\u001b[1;33m,\u001b[0m \u001b[1;36m1\u001b[0m\u001b[1;33m,\u001b[0m \u001b[1;36m0\u001b[0m\u001b[1;33m,\u001b[0m \u001b[1;36m3\u001b[0m\u001b[1;33m,\u001b[0m \u001b[1;36m4\u001b[0m\u001b[1;33m]\u001b[0m\u001b[1;33m\u001b[0m\u001b[0m\n\u001b[0;32m      2\u001b[0m \u001b[0mb\u001b[0m \u001b[1;33m=\u001b[0m \u001b[1;33m[\u001b[0m\u001b[1;32mTrue\u001b[0m\u001b[1;33m,\u001b[0m \u001b[1;32mFalse\u001b[0m\u001b[1;33m,\u001b[0m \u001b[1;32mTrue\u001b[0m\u001b[1;33m,\u001b[0m \u001b[1;32mTrue\u001b[0m\u001b[1;33m,\u001b[0m \u001b[1;32mFalse\u001b[0m\u001b[1;33m]\u001b[0m\u001b[1;33m\u001b[0m\u001b[0m\n\u001b[1;32m----> 3\u001b[1;33m \u001b[0ma\u001b[0m\u001b[1;33m[\u001b[0m\u001b[0mb\u001b[0m\u001b[1;33m]\u001b[0m\u001b[1;33m\u001b[0m\u001b[0m\n\u001b[0m",
        "\u001b[1;31mTypeError\u001b[0m: list indices must be integers, not list"
       ]
      }
     ],
     "prompt_number": 92
    }
   ],
   "metadata": {}
  }
 ]
}