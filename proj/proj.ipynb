{
 "metadata": {
  "name": "",
  "signature": "sha256:df607ae682dbec69003fe8d4c9085131ad28550dbd536460148652d852bccb41"
 },
 "nbformat": 3,
 "nbformat_minor": 0,
 "worksheets": [
  {
   "cells": [
    {
     "cell_type": "code",
     "collapsed": false,
     "input": [
      "%matplotlib inline\n",
      "import matplotlib.pyplot as plt\n",
      "import xml.etree.ElementTree as ET\n",
      "import urllib.request\n",
      "import time\n",
      "import numpy as np"
     ],
     "language": "python",
     "metadata": {},
     "outputs": [],
     "prompt_number": 98
    },
    {
     "cell_type": "code",
     "collapsed": false,
     "input": [
      "# anime_by_rankings.xml is available at:\n",
      "# http://www.animenewsnetwork.com/encyclopedia/reports.xml?id=172&nlist=all\n",
      "tree = ET.parse('anime_by_ratings.xml')\n",
      "root = tree.getroot()\n",
      "\n",
      "# Download details for blocks of 40 anime at a time\n",
      "for i in range(0, 4680, 40):\n",
      "    print(i)\n",
      "    ids = [item.attrib['id'] for item in root[i:i+40]]\n",
      "    query = 'http://cdn.animenewsnetwork.com/encyclopedia/api.xml?title=' + '/'.join(ids)\n",
      "    urllib.request.urlretrieve(query, 'anime/{0}.xml'.format(i))\n",
      "    time.sleep(60)"
     ],
     "language": "python",
     "metadata": {},
     "outputs": []
    },
    {
     "cell_type": "code",
     "collapsed": false,
     "input": [
      "# nb_votes, nb_seen, genres\n",
      "# Maybe add: # episodes? running time? animation studio? year?\n",
      "# Automate way to featurize anime based on x category e.g. production\n",
      "# vs bayesian_average\n",
      "\n",
      "animes, scores = np.zeros((4679, 18)).astype(int), np.zeros(4679)\n",
      "for i, item in enumerate(root[:4679]):\n",
      "    votes = int(item.find('nb_votes').text)\n",
      "    seen = int(item.find('nb_seen').text)\n",
      "    average = float(item.find('weighted_average').text)\n",
      "    \n",
      "    animes[i][0:2] = np.array([votes, seen])\n",
      "    scores[i] = average\n",
      "\n",
      "#     animes[i] = \n",
      "#     scores[i] = "
     ],
     "language": "python",
     "metadata": {},
     "outputs": [],
     "prompt_number": 90
    },
    {
     "cell_type": "code",
     "collapsed": false,
     "input": [
      "all_genres = [\"action\", \"adventure\", \"comedy\", \"drama\", \"slice of life\", \"erotica\", \"fantasy\", \"magic\", \"supernatural\", \"horror\", \"mystery\", \"psychological\", \"romance\", \"science fiction\", \"thriller\", \"tournament\"]\n",
      "def featurize(genres):\n",
      "    return np.array([1 if a in genres else 0 for a in all_genres])\n",
      "\n",
      "for index in range(0, 4680, 40):\n",
      "    tree = ET.parse('anime/{0}.xml'.format(index))\n",
      "    for offset, anime in enumerate(tree.getroot()):\n",
      "        i = index + offset #TODO ensure that offsets line up\n",
      "        if i >= 4679:\n",
      "#             print(anime.find(\"./info[@type='Main title']\").text)\n",
      "            break\n",
      "        genres = set(genre.text for genre in anime.findall(\"./info[@type='Genres']\"))\n",
      "        animes[i][2:18] = featurize(genres)\n",
      "\n",
      "# tree.getroot()[0].findall(\"./info[@type='Genres']\")\n",
      "animes"
     ],
     "language": "python",
     "metadata": {},
     "outputs": [
      {
       "output_type": "stream",
       "stream": "stdout",
       "text": [
        "Akuma-kun\n"
       ]
      },
      {
       "metadata": {},
       "output_type": "pyout",
       "prompt_number": 95,
       "text": [
        "array([[3956, 5695,    0, ...,    1,    1,    0],\n",
        "       [5152, 9595,    0, ...,    0,    1,    0],\n",
        "       [4922, 7845,    0, ...,    0,    0,    0],\n",
        "       ..., \n",
        "       [ 122,  197,    0, ...,    0,    0,    0],\n",
        "       [ 491, 1161,    1, ...,    1,    0,    0],\n",
        "       [ 175,  233,    1, ...,    1,    0,    0]])"
       ]
      }
     ],
     "prompt_number": 95
    },
    {
     "cell_type": "code",
     "collapsed": false,
     "input": [
      "# Introduce extra row for constant term\n",
      "X = np.hstack((animes, np.ones((len(animes), 1))))\n",
      "y = scores\n",
      "\n",
      "# Solve for B\n",
      "B = np.linalg.solve(np.dot(X.T, X), np.dot(X.T, y))"
     ],
     "language": "python",
     "metadata": {},
     "outputs": [],
     "prompt_number": 96
    },
    {
     "cell_type": "code",
     "collapsed": false,
     "input": [
      "B[:-1].size"
     ],
     "language": "python",
     "metadata": {},
     "outputs": [
      {
       "metadata": {},
       "output_type": "pyout",
       "prompt_number": 116,
       "text": [
        "18"
       ]
      }
     ],
     "prompt_number": 116
    },
    {
     "cell_type": "code",
     "collapsed": false,
     "input": [
      "# Plot B, excluding B0\n",
      "yaxis = range(18)[::-1]\n",
      "plt.plot(B[:-1], yaxis, 'o')\n",
      "plt.yticks(yaxis, [\"# votes\", \"# seen\"] + all_genres)\n",
      "plt.grid(axis='y')\n",
      "\n",
      "\n",
      "\n",
      "print(\"B0 is\", B[-1])\n",
      "B"
     ],
     "language": "python",
     "metadata": {},
     "outputs": [
      {
       "output_type": "stream",
       "stream": "stdout",
       "text": [
        "B0 is 6.557905266\n"
       ]
      },
      {
       "metadata": {},
       "output_type": "pyout",
       "prompt_number": 144,
       "text": [
        "array([  8.92746693e-04,  -3.32411065e-04,  -8.61657378e-02,\n",
        "        -7.30208729e-02,   5.76897460e-02,   3.65465254e-01,\n",
        "         2.22231058e-01,  -5.93151280e-01,  -8.45578095e-02,\n",
        "        -7.87562692e-02,  -5.43594580e-03,  -4.09945937e-01,\n",
        "         2.33157660e-01,   1.15196998e-01,   4.57239931e-02,\n",
        "        -9.75660479e-02,   3.15715001e-01,   5.61954866e-02,\n",
        "         6.55790527e+00])"
       ]
      },
      {
       "metadata": {},
       "output_type": "display_data",
       "png": "[encoded data removed]",
       "text": [
        "<matplotlib.figure.Figure at 0x5f57a58>"
       ]
      }
     ],
     "prompt_number": 144
    },
    {
     "cell_type": "code",
     "collapsed": false,
     "input": [
      "# Some interesting visualizations\n",
      "predictions = np.dot(X, B)\n",
      "plt.hist(predictions, bins=np.arange(0, 10, 0.2), alpha=0.5, label=\"Predictions\")\n",
      "plt.hist(y, bins=np.arange(0, 10, 0.2), alpha = 0.5, label=\"Actual Scores\")\n",
      "plt.legend(loc=\"upper left\")\n",
      "plt.show()\n",
      "\n",
      "plt.hist(predictions - y, bins=np.arange(-5, 5, 0.2))\n",
      "plt.title(\"Error\")\n",
      "plt.xlabel(\"Deviation from prediction\")\n",
      "plt.show()"
     ],
     "language": "python",
     "metadata": {},
     "outputs": [
      {
       "metadata": {},
       "output_type": "display_data",
       "png": "[encoded data removed]",
       "text": [
        "<matplotlib.figure.Figure at 0xb642cc0>"
       ]
      },
      {
       "metadata": {},
       "output_type": "display_data",
       "png": "[encoded data removed]",
       "text": [
        "<matplotlib.figure.Figure at 0x858d0f0>"
       ]
      }
     ],
     "prompt_number": 160
    },
    {
     "cell_type": "code",
     "collapsed": false,
     "input": [
      "# Format data as numpy array\n",
      "i = 0\n",
      "tree = ET.parse('anime/{0}.xml'.format(i))\n",
      "genres = set()\n",
      "# for anime in tree.getroot():\n",
      "#     print()\n",
      "for genre in tree.getroot().findall(\"./*/info[@type='Genres']\"):\n",
      "    genres.add(genre.text)\n",
      "print(genres)\n",
      "    \n",
      "    \n",
      "\n",
      "# import collections\n",
      "# themes = []\n",
      "# for theme in tree.getroot().findall(\"./*/info[@type='Themes']\"):\n",
      "#     themes.append(theme.text.lower())\n",
      "# print(collections.Counter(themes))"
     ],
     "language": "python",
     "metadata": {},
     "outputs": [
      {
       "output_type": "stream",
       "stream": "stdout",
       "text": [
        "{'fantasy', 'drama', 'supernatural', 'thriller', 'slice of life', 'horror', 'action', 'comedy', 'magic', 'romance', 'tournament', 'mystery', 'science fiction', 'adventure', 'psychological'}\n",
        "Counter({'military': 8, 'tragedy': 7, 'spirits': 5, 'war': 5, 'family': 4, 'space': 4, 'conspiracy': 4, 'politics': 4, 'school': 4, 'mecha': 4, 'post-apocalyptic': 3, 'crime': 3, 'samurai': 3, 'folklore': 3, 'police': 3, 'historical': 3, 'shoujo-ai': 3, 'time travel': 3, 'parenting': 2, 'revenge': 2, 'harem': 2, 'aliens': 2, 'growing up': 2, 'space navy': 2, 'parody': 2, 'detective': 2, 'homunculi': 2, 'real robot': 2, 'mythology': 2, 'alchemy': 2, 'technology': 2, 'virtual reality': 2, 'steampunk': 2, 'mind control': 2, 'music': 2, 'baseball': 1, 'coming of age': 1, 'love triangle': 1, 'magic book': 1, 'yuri': 1, 'world war ii': 1, 'death': 1, 'computers': 1, 'single parents': 1, 'sports': 1, 'shinigami': 1, 'cyberpunk': 1, 'amnesia': 1, 'gore': 1, 'alternate history': 1, 'social-networking': 1, 'deforestation': 1, 'college': 1, 'incest': 1, 'adoption': 1, 'ghosts': 1, 'burning manly passion': 1, 'moe': 1, 'super robot': 1, 'alternate reality': 1, 'high school': 1, 'butterfly effect': 1, 'bishoujo': 1, 'bounty hunters': 1})\n"
       ]
      }
     ],
     "prompt_number": 39
    }
   ],
   "metadata": {}
  }
 ]
}