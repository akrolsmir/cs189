{
 "metadata": {
  "name": "",
  "signature": "sha256:f2954ae262b6da5e4f0b57ef37476fa3099b689729d31a0080a10a9295607c68"
 },
 "nbformat": 3,
 "nbformat_minor": 0,
 "worksheets": [
  {
   "cells": [
    {
     "cell_type": "markdown",
     "metadata": {},
     "source": [
      "Square brackets denote element-wise operations.\n",
      "\n",
      "### Mean-squared error\n",
      "$$J = 1/2 \\sum (y_k - h_{k}(x))^2$$\n",
      "$$dJ / dW_2 = - \\sum (y_k - h_{k}(x)) * d/dW_2 (h_{k}(x))$$\n",
      "\n",
      "Note that $h(x) = g(tanh(xW_1)W_2)$, where $x$ is a row vector. Consider $d/dW_2 (h(x))$:\n",
      "\n",
      "$$d/dW_2 (h(x)) = d/dW_2 (tanh(xW_1)W_2) * g'(tanh(xW_1)W_2)$$\n",
      "$$ = tanh(xW_1)^T * [g(tanh(xW_1)W_2) (1 - g(tanh(xW_1)W_2))]$$\n",
      "$$ = tanh(xW_1)^T * [h(x) (1 - h(x))]$$\n",
      "\n",
      "Thus:\n",
      "$$dJ / dW_2 = - tanh(xW_1)^T * [h(x) (1 - h(x))(y - h(x))] $$\n",
      "\n",
      "### \n",
      "\n",
      "$$dJ / dW_1 = - \\sum (y_k - h_{k}(x)) * d/dW_1 (h_{k}(x))$$\n",
      "Consider $d/dW_1 (h(x))$:\n",
      "\n",
      "$$d/dW_1 (h(x)) = d/dW_1 (tanh(xW_1)W_2) * g'(tanh(xW_1)W_2)$$\n",
      "$$d/dW_1 (tanh(xW_1)W_2) = W_2^T tanh'(xW_1)x^T$$\n",
      "\n",
      "Thus:\n",
      "$$dJ / dW_1= - x^T * [[h(x)(1 - h(x))(y - h(x))] * W_2^T (tanh'(xW_1))] $$"
     ]
    },
    {
     "cell_type": "code",
     "collapsed": false,
     "input": [
      "import numpy as np\n",
      "import scipy.io\n",
      "import math\n",
      "import random\n",
      "from sklearn import preprocessing\n",
      "from __future__ import division\n",
      "\n",
      "# Load the data\n",
      "mat = scipy.io.loadmat('digit-dataset/train.mat')\n",
      "images = np.reshape(mat[\"train_images\"], (1, -1, 60000))[0].T\n",
      "labels = mat['train_labels']\n",
      "labels = np.squeeze(np.asarray(labels))\n",
      "\n",
      "# Preprocess X\n",
      "X = preprocessing.scale(images.astype(float))\n",
      "X = np.c_[X, np.ones(len(X))]\n",
      "\n",
      "# Form y row vectors\n",
      "Y = [[1 if label == i else 0 for i in range(10)] for label in labels]\n",
      "Y = np.array(Y)"
     ],
     "language": "python",
     "metadata": {},
     "outputs": [],
     "prompt_number": 43
    },
    {
     "cell_type": "code",
     "collapsed": false,
     "input": [
      "np.shape(np.random.normal(size=(784, 200)))\n",
      "\n",
      "t = np.array([[1, 2],[3, 4]])\n",
      "a = np.array([1, 2, 3])\n",
      "b = np.array([3, 4, 5])\n",
      "np.shape(a)\n",
      "np.shape(b)"
     ],
     "language": "python",
     "metadata": {},
     "outputs": [
      {
       "metadata": {},
       "output_type": "pyout",
       "prompt_number": 52,
       "text": [
        "(3,)"
       ]
      }
     ],
     "prompt_number": 52
    },
    {
     "cell_type": "code",
     "collapsed": false,
     "input": [
      "class NeuralNet(object):\n",
      "    def __init__(self):\n",
      "        e = 10**-5\n",
      "        self.W1 = np.random.normal(0, e, (785, 200))\n",
      "        self.W2 = np.random.normal(0, e, (201, 10))\n",
      "        \n",
      "#         self.W1 = np.ones((784, 200)) * 0.0002\n",
      "#         self.W2 = np.ones((200, 10)) * 0.03\n",
      "    \n",
      "    def forward(self, x):\n",
      "        a2 = np.tanh(x.dot(self.W1))\n",
      "        a2 = np.c_[a2, np.ones(len(a2))]\n",
      "        hx = sigmoid(a2.dot(self.W2))\n",
      "        return hx\n",
      "    \n",
      "    def train(self, X, Y, iterations, step):\n",
      "        for i in range(iterations):\n",
      "            i = random.randrange(0, len(X))\n",
      "            x, y = X[i], Y[i] # x and y are both row vectors\n",
      "\n",
      "            a2 = np.tanh(x.dot(self.W1))\n",
      "            a2 = np.append(a2, 1)\n",
      "            hx = sigmoid(a2.dot(self.W2))\n",
      "            d3 = np.multiply(np.multiply(hx, 1 - hx), y - hx)\n",
      "\n",
      "            dJdW2 = - np.outer(a2.T, d3)\n",
      "#             print(\"DJDW2: \", dJdW2[9][9])\n",
      "#             print(\"numerical grad\", self.numerical_gradient(x, y))\n",
      "\n",
      "            dJdW1 = - np.outer(x.T, d3.dot(self.W2.T) * (1 - a2**2))\n",
      "#             print(\"DJDW1: \", dJdW1[9][9])\n",
      "#             print(\"numerical grad\", self.num_grad_W1(x, y))\n",
      "\n",
      "#             step = 0.01\n",
      "            self.W2 -= step * dJdW2\n",
      "            self.W1 -= step * dJdW1[:,:-1]\n",
      "    \n",
      "    def predict(self, images):\n",
      "        output = self.forward(images)\n",
      "        return [max((v, i) for i, v in enumerate(o))[1] for o in output]\n",
      "        \n",
      "    def score(self, data, labels):\n",
      "        predictions = self.predict(data)\n",
      "        return sum(d == l for d, l in zip(predictions, labels)) / len(labels)\n",
      "    \n",
      "    def save(self, filename):\n",
      "        np.savez(filename, self.W1, self.W2)\n",
      "    \n",
      "    def load(self, filename):\n",
      "        arrs = np.load(filename)\n",
      "        self.W1, self.W2 = arrs['arr_0'], arrs['arr_1']\n",
      "        \n",
      "def sigmoid(z):\n",
      "    return 1 / (1 + np.exp(-z))\n",
      "\n",
      "# nn = NeuralNet()\n",
      "# nn.load('5002.npz')\n",
      "# # nn.forward(np.ones(784))\n",
      "# nn.train(X, Y)\n",
      "# nn.save('5003.npz')\n",
      "# nn.score(X, labels)"
     ],
     "language": "python",
     "metadata": {},
     "outputs": [],
     "prompt_number": 60
    },
    {
     "cell_type": "code",
     "collapsed": false,
     "input": [
      "nn = NeuralNet()\n",
      "nn.load('backup.npz')\n",
      "step = 0.001\n",
      "# prev_score = 0.10\n",
      "\n",
      "for _ in range(20):\n",
      "    nn.train(X, Y, 5000, step)\n",
      "    score = nn.score(X, labels)\n",
      "    print(score)\n",
      "    if score < prev_score:\n",
      "        step *= 0.8\n",
      "        nn.load('backup.npz')\n",
      "    else:\n",
      "        prev_score = score\n",
      "        nn.save('backup.npz')"
     ],
     "language": "python",
     "metadata": {},
     "outputs": [
      {
       "output_type": "stream",
       "stream": "stdout",
       "text": [
        "0.97725\n",
        "0.977266666667"
       ]
      },
      {
       "output_type": "stream",
       "stream": "stdout",
       "text": [
        "\n",
        "0.977333333333"
       ]
      },
      {
       "output_type": "stream",
       "stream": "stdout",
       "text": [
        "\n",
        "0.977416666667"
       ]
      },
      {
       "output_type": "stream",
       "stream": "stdout",
       "text": [
        "\n",
        "0.9773"
       ]
      },
      {
       "output_type": "stream",
       "stream": "stdout",
       "text": [
        "\n",
        "0.9774"
       ]
      },
      {
       "output_type": "stream",
       "stream": "stdout",
       "text": [
        "\n",
        "0.9775"
       ]
      },
      {
       "output_type": "stream",
       "stream": "stdout",
       "text": [
        "\n",
        "0.9774"
       ]
      },
      {
       "output_type": "stream",
       "stream": "stdout",
       "text": [
        "\n",
        "0.9774"
       ]
      },
      {
       "output_type": "stream",
       "stream": "stdout",
       "text": [
        "\n",
        "0.977466666667"
       ]
      },
      {
       "output_type": "stream",
       "stream": "stdout",
       "text": [
        "\n",
        "0.9775"
       ]
      },
      {
       "output_type": "stream",
       "stream": "stdout",
       "text": [
        "\n",
        "0.977483333333"
       ]
      },
      {
       "output_type": "stream",
       "stream": "stdout",
       "text": [
        "\n",
        "0.977466666667"
       ]
      },
      {
       "output_type": "stream",
       "stream": "stdout",
       "text": [
        "\n",
        "0.97745"
       ]
      },
      {
       "output_type": "stream",
       "stream": "stdout",
       "text": [
        "\n",
        "0.977416666667"
       ]
      },
      {
       "output_type": "stream",
       "stream": "stdout",
       "text": [
        "\n",
        "0.977483333333"
       ]
      },
      {
       "output_type": "stream",
       "stream": "stdout",
       "text": [
        "\n"
       ]
      },
      {
       "ename": "KeyboardInterrupt",
       "evalue": "",
       "output_type": "pyerr",
       "traceback": [
        "\u001b[0;31m---------------------------------------------------------------------------\u001b[0m\n\u001b[0;31mKeyboardInterrupt\u001b[0m                         Traceback (most recent call last)",
        "\u001b[0;32m<ipython-input-89-173449ca7511>\u001b[0m in \u001b[0;36m<module>\u001b[0;34m()\u001b[0m\n\u001b[1;32m      5\u001b[0m \u001b[0;34m\u001b[0m\u001b[0m\n\u001b[1;32m      6\u001b[0m \u001b[0;32mfor\u001b[0m \u001b[0m_\u001b[0m \u001b[0;32min\u001b[0m \u001b[0mrange\u001b[0m\u001b[0;34m(\u001b[0m\u001b[0;36m20\u001b[0m\u001b[0;34m)\u001b[0m\u001b[0;34m:\u001b[0m\u001b[0;34m\u001b[0m\u001b[0m\n\u001b[0;32m----> 7\u001b[0;31m     \u001b[0mnn\u001b[0m\u001b[0;34m.\u001b[0m\u001b[0mtrain\u001b[0m\u001b[0;34m(\u001b[0m\u001b[0mX\u001b[0m\u001b[0;34m,\u001b[0m \u001b[0mY\u001b[0m\u001b[0;34m,\u001b[0m \u001b[0;36m5000\u001b[0m\u001b[0;34m,\u001b[0m \u001b[0mstep\u001b[0m\u001b[0;34m)\u001b[0m\u001b[0;34m\u001b[0m\u001b[0m\n\u001b[0m\u001b[1;32m      8\u001b[0m     \u001b[0mscore\u001b[0m \u001b[0;34m=\u001b[0m \u001b[0mnn\u001b[0m\u001b[0;34m.\u001b[0m\u001b[0mscore\u001b[0m\u001b[0;34m(\u001b[0m\u001b[0mX\u001b[0m\u001b[0;34m,\u001b[0m \u001b[0mlabels\u001b[0m\u001b[0;34m)\u001b[0m\u001b[0;34m\u001b[0m\u001b[0m\n\u001b[1;32m      9\u001b[0m     \u001b[0;32mprint\u001b[0m\u001b[0;34m(\u001b[0m\u001b[0mscore\u001b[0m\u001b[0;34m)\u001b[0m\u001b[0;34m\u001b[0m\u001b[0m\n",
        "\u001b[0;32m<ipython-input-60-17b61cd7d420>\u001b[0m in \u001b[0;36mtrain\u001b[0;34m(self, X, Y, iterations, step)\u001b[0m\n\u001b[1;32m     34\u001b[0m \u001b[0;31m#             step = 0.01\u001b[0m\u001b[0;34m\u001b[0m\u001b[0;34m\u001b[0m\u001b[0m\n\u001b[1;32m     35\u001b[0m             \u001b[0mself\u001b[0m\u001b[0;34m.\u001b[0m\u001b[0mW2\u001b[0m \u001b[0;34m-=\u001b[0m \u001b[0mstep\u001b[0m \u001b[0;34m*\u001b[0m \u001b[0mdJdW2\u001b[0m\u001b[0;34m\u001b[0m\u001b[0m\n\u001b[0;32m---> 36\u001b[0;31m             \u001b[0mself\u001b[0m\u001b[0;34m.\u001b[0m\u001b[0mW1\u001b[0m \u001b[0;34m-=\u001b[0m \u001b[0mstep\u001b[0m \u001b[0;34m*\u001b[0m \u001b[0mdJdW1\u001b[0m\u001b[0;34m[\u001b[0m\u001b[0;34m:\u001b[0m\u001b[0;34m,\u001b[0m\u001b[0;34m:\u001b[0m\u001b[0;34m-\u001b[0m\u001b[0;36m1\u001b[0m\u001b[0;34m]\u001b[0m\u001b[0;34m\u001b[0m\u001b[0m\n\u001b[0m\u001b[1;32m     37\u001b[0m \u001b[0;34m\u001b[0m\u001b[0m\n\u001b[1;32m     38\u001b[0m     \u001b[0;32mdef\u001b[0m \u001b[0mpredict\u001b[0m\u001b[0;34m(\u001b[0m\u001b[0mself\u001b[0m\u001b[0;34m,\u001b[0m \u001b[0mimages\u001b[0m\u001b[0;34m)\u001b[0m\u001b[0;34m:\u001b[0m\u001b[0;34m\u001b[0m\u001b[0m\n",
        "\u001b[0;31mKeyboardInterrupt\u001b[0m: "
       ]
      }
     ],
     "prompt_number": 89
    },
    {
     "cell_type": "code",
     "collapsed": false,
     "input": [
      "nn.load('backup.npz')\n",
      "nn.score(X, labels)"
     ],
     "language": "python",
     "metadata": {},
     "outputs": [
      {
       "metadata": {},
       "output_type": "pyout",
       "prompt_number": 90,
       "text": [
        "0.97750000000000004"
       ]
      }
     ],
     "prompt_number": 90
    },
    {
     "cell_type": "code",
     "collapsed": false,
     "input": [
      "\n",
      "\n",
      "# Load Neural Net weights from backup\n",
      "nn = NeuralNet()\n",
      "nn.load('backup.npz')\n",
      "result = nn.predict(test_X)\n",
      "\n",
      "# Write the results to a csv\n",
      "f = open('digits3.csv', 'w')\n",
      "f.write('Id,Category\\n')\n",
      "for i in range(len(result)):\n",
      "    f.write(\"{0},{1}\\n\".format(i + 1, result[i]))\n",
      "f.close()"
     ],
     "language": "python",
     "metadata": {},
     "outputs": [],
     "prompt_number": 91
    },
    {
     "cell_type": "code",
     "collapsed": false,
     "input": [
      "# Load and preprocess test data\n",
      "mat = scipy.io.loadmat('test.mat')\n",
      "test_images = np.reshape(mat[\"test_images\"], (1, -1, 10000))[0].T\n",
      "test_X = preprocessing.scale(test_images.astype(float))\n",
      "test_X = np.c_[test_X, np.ones(len(test_X))]\n",
      "\n"
     ],
     "language": "python",
     "metadata": {},
     "outputs": [],
     "prompt_number": 79
    },
    {
     "cell_type": "code",
     "collapsed": false,
     "input": [
      "test_X.shape"
     ],
     "language": "python",
     "metadata": {},
     "outputs": []
    }
   ],
   "metadata": {}
  }
 ]
}