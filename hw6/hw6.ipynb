{
 "metadata": {
  "name": "",
  "signature": "sha256:0d51c6ce6c6722eadca515c43ed3e0d734c2a4a1800c458483fb9003572d593b"
 },
 "nbformat": 3,
 "nbformat_minor": 0,
 "worksheets": [
  {
   "cells": [
    {
     "cell_type": "markdown",
     "metadata": {},
     "source": [
      "Homework 6\n",
      "==========\n",
      "\n",
      "- Name: Austin Chen\n",
      "- SID: 23826762\n",
      "- Repro: Open up hw6.ipynb in IPython Notebook."
     ]
    },
    {
     "cell_type": "markdown",
     "metadata": {},
     "source": [
      "## 1. Gradient Descent Updates\n",
      "\n",
      "Square brackets denote element-wise operations.\n",
      "\n",
      "### Mean-squared Error\n",
      "#### W1\n",
      "$$J = 1/2 \\sum (y_k - h_{k}(x))^2$$\n",
      "$$dJ / dW_2 = - \\sum (y_k - h_{k}(x)) * d/dW_2 (h_{k}(x))$$\n",
      "\n",
      "Note that $h(x) = g(tanh(xW_1)W_2)$, where $x$ is a row vector. Consider $d/dW_2 (h(x))$:\n",
      "\n",
      "$$d/dW_2 (h(x)) = d/dW_2 (tanh(xW_1)W_2) * g'(tanh(xW_1)W_2)$$\n",
      "$$ = tanh(xW_1)^T * [g(tanh(xW_1)W_2) (1 - g(tanh(xW_1)W_2))]$$\n",
      "$$ = tanh(xW_1)^T * [h(x) (1 - h(x))]$$\n",
      "\n",
      "Thus:\n",
      "$$dJ / dW_2 = - tanh(xW_1)^T * [h(x) (1 - h(x))(y - h(x))] $$\n",
      "\n",
      "#### W2\n",
      "\n",
      "$$dJ / dW_1 = - \\sum (y_k - h_{k}(x)) * d/dW_1 (h_{k}(x))$$\n",
      "Consider $d/dW_1 (h(x))$:\n",
      "\n",
      "$$d/dW_1 (h(x)) = d/dW_1 (tanh(xW_1)W_2) * g'(tanh(xW_1)W_2)$$\n",
      "$$d/dW_1 (tanh(xW_1)W_2) = W_2^T tanh'(xW_1)x^T$$\n",
      "\n",
      "Thus:\n",
      "$$dJ / dW_1= - x^T * [[h(x)(1 - h(x))(y - h(x))] * W_2^T (tanh'(xW_1))] $$\n",
      "\n",
      "### Cross-entropy Error\n",
      "\n",
      "$$J = \\sum y_k ln(h_k(x)) + (1-y_k)ln(1-h_k(x))$$\n",
      "$$dJ/dW = \\sum d/dW y_k ln(h_k(x)) + d/dW (1-y_k)ln(1-h_k(x))$$\n",
      "$$dJ/dW = \\sum y_k d/dW ln(h_k(x)) +  (1-y_k)d/dWln(1-h_k(x))$$\n",
      "$$dJ/dW = \\sum y_k/h_k(x) d/dW h_k(x) + (1-y_k)/(1-h_k(x)) d/dW (-h_k(x))$$\n",
      "$$dJ/dW = [y /h(x) - (1-y) /(1-h(x))] d/dW (h(x))$$\n",
      "\n",
      "Using the results from the previous part, we get:\n",
      "$$dJ/dW2 = - tanh(xW_1)^T * [y /h(x) - (1-y) /(1-h(x))][h(x) (1 - h(x))]$$\n",
      "$$dJ / dW_1= - x^T * [[h(x)(1 - h(x))[y /h(x) - (1-y) /(1-h(x))]] * W_2^T (tanh'(xW_1))] $$\n",
      "\n",
      "## 2. Parameters\n",
      "\n",
      "I used a learning rate of 0.01, with a pseudo-simulated annealing: every 5k iterations, if the validation accuracy hasn't increased, decrease the rate by a multiplicative factor of 0.8, resetting back to 0.01 every 100k iterations.\n",
      "\n",
      "Weights were initialized to the normal distribution with mean 0 and variance $10^{-5}$.\n",
      "\n",
      "I got a training accuracy of 99.2%, and a Kaggle score of 96.4%.\n",
      "\n",
      "The running time was about 10k iterations per minute, for a total of about 30-40 minutes for my final result.\n",
      "\n",
      "Plots of accuracy over time can be found below; cross-entropy error performed much better than mean-squared error, as a loss function."
     ]
    },
    {
     "cell_type": "code",
     "collapsed": false,
     "input": [
      "import numpy as np\n",
      "import scipy.io\n",
      "import math\n",
      "import random\n",
      "from sklearn import preprocessing\n",
      "from __future__ import division\n",
      "\n",
      "# Load the data\n",
      "mat = scipy.io.loadmat('digit-dataset/train.mat')\n",
      "images = np.reshape(mat[\"train_images\"], (1, -1, 60000))[0].T\n",
      "labels = mat['train_labels']\n",
      "labels = np.squeeze(np.asarray(labels))\n",
      "\n",
      "# Preprocess X\n",
      "X = preprocessing.scale(images.astype(float))\n",
      "X = np.c_[X, np.ones(len(X))]\n",
      "\n",
      "# Form y row vectors\n",
      "Y = [[1 if label == i else 0 for i in range(10)] for label in labels]\n",
      "Y = np.array(Y)"
     ],
     "language": "python",
     "metadata": {},
     "outputs": [],
     "prompt_number": 1
    },
    {
     "cell_type": "code",
     "collapsed": false,
     "input": [
      "class NeuralNet(object):\n",
      "    def __init__(self):\n",
      "        e = 10**-5\n",
      "        self.W1 = np.random.normal(0, e, (785, 200))\n",
      "        self.W2 = np.random.normal(0, e, (201, 10))\n",
      "    \n",
      "    def forward(self, x):\n",
      "        a2 = np.tanh(x.dot(self.W1))\n",
      "        a2 = np.c_[a2, np.ones(len(a2))]\n",
      "        hx = sigmoid(a2.dot(self.W2))\n",
      "        return hx\n",
      "    \n",
      "    def train(self, X, Y, iterations, step, error):\n",
      "        for i in range(iterations):\n",
      "            i = random.randrange(0, len(X))\n",
      "            x, y = X[i], Y[i] # x and y are both row vectors\n",
      "\n",
      "            a2 = np.tanh(x.dot(self.W1))\n",
      "            a2 = np.append(a2, 1)\n",
      "            hx = sigmoid(a2.dot(self.W2))\n",
      "            d3 = np.multiply(np.multiply(hx, 1 - hx), error(y, hx))\n",
      "\n",
      "            dJdW2 = - np.outer(a2.T, d3)\n",
      "            dJdW1 = - np.outer(x.T, d3.dot(self.W2.T) * (1 - a2**2))\n",
      "\n",
      "            self.W2 -= step * dJdW2\n",
      "            self.W1 -= step * dJdW1[:,:-1]\n",
      "    \n",
      "    def predict(self, images):\n",
      "        output = self.forward(images)\n",
      "        return [max((v, i) for i, v in enumerate(o))[1] for o in output]\n",
      "        \n",
      "    def score(self, data, labels):\n",
      "        predictions = self.predict(data)\n",
      "        return sum(d == l for d, l in zip(predictions, labels)) / len(labels)\n",
      "    \n",
      "    def save(self, filename):\n",
      "        np.savez(filename, self.W1, self.W2)\n",
      "    \n",
      "    def load(self, filename):\n",
      "        arrs = np.load(filename)\n",
      "        self.W1, self.W2 = arrs['arr_0'], arrs['arr_1']\n",
      "        \n",
      "def sigmoid(z):\n",
      "    return 1 / (1 + np.exp(-z))\n",
      "\n",
      "def mean_squared_error(y, hx):\n",
      "    return y - hx\n",
      "\n",
      "def cross_entropy_error(y, hx):\n",
      "    return np.divide(y, hx) - np.divide(1 - y, 1 - hx)"
     ],
     "language": "python",
     "metadata": {},
     "outputs": [],
     "prompt_number": 2
    },
    {
     "cell_type": "code",
     "collapsed": false,
     "input": [
      "import matplotlib.pyplot as plt\n",
      "%matplotlib inline\n",
      "\n",
      "scores = [0.10]\n",
      "nn = NeuralNet()\n",
      "for _ in range(50):\n",
      "    nn.train(X, Y, 1000, 0.01, mean_squared_error)\n",
      "    scores.append(nn.score(X, labels))\n",
      "plt.plot(scores)\n",
      "plt.title(\"Mean-squared error as loss\")\n",
      "plt.ylabel(\"Accuracy\")\n",
      "plt.xlabel(\"Iterations (thousands)\")"
     ],
     "language": "python",
     "metadata": {},
     "outputs": [
      {
       "metadata": {},
       "output_type": "pyout",
       "prompt_number": 8,
       "text": [
        "<matplotlib.text.Text at 0x10eb18790>"
       ]
      },
      {
       "metadata": {},
       "output_type": "display_data",
       "png": "[encoded data removed]",
       "text": [
        "<matplotlib.figure.Figure at 0x105346a90>"
       ]
      }
     ],
     "prompt_number": 8
    },
    {
     "cell_type": "code",
     "collapsed": false,
     "input": [
      "scores = [0.10]\n",
      "nn = NeuralNet()\n",
      "for _ in range(50):\n",
      "    nn.train(X, Y, 1000, 0.01, cross_entropy_error)\n",
      "    scores.append(nn.score(X, labels))\n",
      "plt.plot(scores)\n",
      "plt.title(\"Cross-entropy error as loss\")\n",
      "plt.ylabel(\"Accuracy\")\n",
      "plt.xlabel(\"Iterations (thousands)\")"
     ],
     "language": "python",
     "metadata": {},
     "outputs": [
      {
       "metadata": {},
       "output_type": "pyout",
       "prompt_number": 10,
       "text": [
        "<matplotlib.text.Text at 0x10ec8e710>"
       ]
      },
      {
       "metadata": {},
       "output_type": "display_data",
       "png": "[encoded data removed]",
       "text": [
        "<matplotlib.figure.Figure at 0x10ec87350>"
       ]
      }
     ],
     "prompt_number": 10
    },
    {
     "cell_type": "code",
     "collapsed": false,
     "input": [
      "nn = NeuralNet()\n",
      "nn.load('backup.npz')\n",
      "step = 0.001\n",
      "# prev_score = 0.98\n",
      "\n",
      "for _ in range(40):\n",
      "    nn.train(X, Y, 5000, step, cross_entropy_error)\n",
      "    score = nn.score(X, labels)\n",
      "    print(score)\n",
      "nn.save('backup.npz')\n",
      "#     if score < prev_score:\n",
      "#         step *= 0.8\n",
      "#         nn.load('backup.npz')\n",
      "#     else:\n",
      "#         prev_score = score\n",
      "#         nn.save('backup.npz')"
     ],
     "language": "python",
     "metadata": {},
     "outputs": []
    },
    {
     "cell_type": "code",
     "collapsed": false,
     "input": [
      "# Load and preprocess test data\n",
      "mat = scipy.io.loadmat('test.mat')\n",
      "test_images = np.reshape(mat[\"test_images\"], (1, -1, 10000))[0].T\n",
      "test_X = preprocessing.scale(test_images.astype(float))\n",
      "test_X = np.c_[test_X, np.ones(len(test_X))]"
     ],
     "language": "python",
     "metadata": {},
     "outputs": [],
     "prompt_number": 18
    },
    {
     "cell_type": "code",
     "collapsed": false,
     "input": [
      "# Load Neural Net weights from backup\n",
      "nn = NeuralNet()\n",
      "nn.load('backup.npz')\n",
      "result = nn.predict(test_X)\n",
      "\n",
      "# Write the results to a csv\n",
      "f = open('digits6.csv', 'w')\n",
      "f.write('Id,Category\\n')\n",
      "for i in range(len(result)):\n",
      "    f.write(\"{0},{1}\\n\".format(i + 1, result[i]))\n",
      "f.close()"
     ],
     "language": "python",
     "metadata": {},
     "outputs": [],
     "prompt_number": 38
    }
   ],
   "metadata": {}
  }
 ]
}